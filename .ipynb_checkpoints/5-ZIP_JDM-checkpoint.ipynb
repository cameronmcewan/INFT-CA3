{
 "cells": [
  {
   "cell_type": "markdown",
   "metadata": {
    "pycharm": {
     "name": "#%% md\n"
    },
    "tags": []
   },
   "source": [
    "# <center> BSE Test </center>\n",
    "<center> CM </center>"
   ]
  },
  {
   "cell_type": "markdown",
   "metadata": {
    "tags": []
   },
   "source": [
    "# Initial Setup "
   ]
  },
  {
   "cell_type": "code",
   "execution_count": 1,
   "metadata": {},
   "outputs": [],
   "source": [
    "# Initial Setup:\n",
    "\n",
    "import matplotlib.pyplot as plt\n",
    "import numpy as np\n",
    "import csv\n",
    "import math\n",
    "import random\n",
    "\n",
    "from BSE import market_session"
   ]
  },
  {
   "cell_type": "markdown",
   "metadata": {},
   "source": [
    "# Merton's jump diffusion model"
   ]
  },
  {
   "cell_type": "code",
   "execution_count": 2,
   "metadata": {},
   "outputs": [],
   "source": [
    "plt.style.use('ggplot')\n",
    "\n",
    "def merton_jump_paths(S, T, r, sigma,  lam, m, v, steps, Npaths):\n",
    "    size=(steps,Npaths)\n",
    "    dt = T/steps \n",
    "    poi_rv = np.multiply(np.random.poisson( lam*dt, size=size),\n",
    "                         np.random.normal(m,v, size=size)).cumsum(axis=0)\n",
    "    geo = np.cumsum(((r -  sigma**2/2 -lam*(m  + v**2*0.5))*dt +\\\n",
    "                              sigma*np.sqrt(dt) * \\\n",
    "                              np.random.normal(size=size)), axis=0)\n",
    "    \n",
    "    return np.exp(geo+poi_rv)*S\n",
    "\n",
    "\n",
    "S = 100 # current stock price\n",
    "T = 1 # time to maturity\n",
    "r = 0.02 # risk free rate\n",
    "m = 0 # mean of jump size\n",
    "v = 0.3 # standard deviation of jump\n",
    "lam =1 # intensity of jump i.e. number of jumps per annum\n",
    "steps =10 # time steps\n",
    "Npaths = 5 # number of paths to simulate\n",
    "sigma = 0.2 # annaul standard deviation , for weiner process\n"
   ]
  },
  {
   "cell_type": "markdown",
   "metadata": {},
   "source": [
    "# Helpful functions"
   ]
  },
  {
   "cell_type": "code",
   "execution_count": 4,
   "metadata": {},
   "outputs": [],
   "source": [
    "# Use this to plot trades of a single experiment\n",
    "def plot_trades(trial_id):\n",
    "    prices_fname = trial_id + '_transactions.csv'\n",
    "    x = np.empty(0)\n",
    "    y = np.empty(0)\n",
    "    with open(prices_fname, newline='') as csvfile:\n",
    "        reader = csv.reader(csvfile)\n",
    "        for row in reader:\n",
    "            time = float(row[1])\n",
    "            price = float(row[2])\n",
    "            x = np.append(x,time)\n",
    "            y = np.append(y,price)\n",
    "\n",
    "    plt.plot(x, y, 'x', color='black') \n",
    "    \n",
    "# Use this to run an experiment n times and plot all trades\n",
    "def n_runs_plot(n, trial_id, start_time, end_time, traders_spec, order_sched):\n",
    "    x = np.empty(0)\n",
    "    y = np.empty(0)\n",
    "\n",
    "    for i in range(n):\n",
    "        trialId = trial_id + '_' + str(i)\n",
    "        tdump = open(trialId + '_avg_balance.csv','w')\n",
    "\n",
    "        market_session(trialId, start_time, end_time, traders_spec, order_sched, tdump, True, False)\n",
    "        \n",
    "        tdump.close()\n",
    "\n",
    "        with open(trialId + '_transactions.csv', newline='') as csvfile:\n",
    "            reader = csv.reader(csvfile)\n",
    "            for row in reader:\n",
    "                time = float(row[1])\n",
    "                price = float(row[2])\n",
    "                x = np.append(x,time)\n",
    "                y = np.append(y,price)\n",
    "\n",
    "    plt.plot(x, y, 'x', color='black');\n",
    "\n",
    "# !!! Don't use on it's own   \n",
    "def getorderprice(i, sched, n, mode):\n",
    "    pmin = min(sched[0][0], sched[0][1])\n",
    "    pmax = max(sched[0][0], sched[0][1])\n",
    "    prange = pmax - pmin\n",
    "    stepsize = prange / (n - 1)\n",
    "    halfstep = round(stepsize / 2.0)\n",
    "\n",
    "    if mode == 'fixed':\n",
    "        orderprice = pmin + int(i * stepsize)\n",
    "    elif mode == 'jittered':\n",
    "        orderprice = pmin + int(i * stepsize) + random.randint(-halfstep, halfstep)\n",
    "    elif mode == 'random':\n",
    "        if len(sched) > 1:\n",
    "            # more than one schedule: choose one equiprobably\n",
    "            s = random.randint(0, len(sched) - 1)\n",
    "            pmin = min(sched[s][0], sched[s][1])\n",
    "            pmax = max(sched[s][0], sched[s][1])\n",
    "        orderprice = random.randint(pmin, pmax)\n",
    "    return orderprice    \n",
    "\n",
    "# !!! Don't use on it's own\n",
    "def make_supply_demand_plot(bids, asks):\n",
    "    # total volume up to current order\n",
    "    volS = 0\n",
    "    volB = 0\n",
    "\n",
    "    fig, ax = plt.subplots()\n",
    "    plt.ylabel('Price')\n",
    "    plt.xlabel('Quantity')\n",
    "    \n",
    "    pr = 0\n",
    "    for b in bids:\n",
    "        if pr != 0:\n",
    "            # vertical line\n",
    "            ax.plot([volB,volB], [pr,b], 'r-')\n",
    "        # horizontal lines\n",
    "        line, = ax.plot([volB,volB+1], [b,b], 'r-')\n",
    "        volB += 1\n",
    "        pr = b\n",
    "    if bids:\n",
    "        line.set_label('Demand')\n",
    "        \n",
    "    pr = 0\n",
    "    for s in asks:\n",
    "        if pr != 0:\n",
    "            # vertical line\n",
    "            ax.plot([volS,volS], [pr,s], 'b-')\n",
    "        # horizontal lines\n",
    "        line, = ax.plot([volS,volS+1], [s,s], 'b-')\n",
    "        volS += 1\n",
    "        pr = s\n",
    "    if asks:\n",
    "        line.set_label('Supply')\n",
    "        \n",
    "    if bids or asks:\n",
    "        plt.legend()\n",
    "    plt.show()\n",
    "\n",
    "# Use this to plot supply and demand curves from supply and demand ranges and stepmode\n",
    "def sup_dem(seller_num, sup_ranges, buyer_num, dem_ranges, stepmode):\n",
    "    asks = []\n",
    "    for s in range(seller_num):\n",
    "        asks.append(getorderprice(s, sup_ranges, seller_num, stepmode))\n",
    "    asks.sort()\n",
    "    bids = []\n",
    "    for b in range(buyer_num):\n",
    "        bids.append(getorderprice(b, dem_ranges, buyer_num, stepmode))\n",
    "    bids.sort()\n",
    "    bids.reverse()\n",
    "    \n",
    "    make_supply_demand_plot(bids, asks) \n",
    "\n",
    "# plot sorted trades, useful is some situations - won't be used in this worksheet\n",
    "def in_order_plot(trial_id):\n",
    "    prices_fname = trial_id + '_transactions.csv'\n",
    "    y = np.empty(0)\n",
    "    with open(prices_fname, newline='') as csvfile:\n",
    "        reader = csv.reader(csvfile)\n",
    "        for row in reader:\n",
    "            price = float(row[2])\n",
    "            y = np.append(y,price)\n",
    "    y = np.sort(y)\n",
    "    x = list(range(len(y)))\n",
    "\n",
    "    plt.plot(x, y, 'x', color='black')  "
   ]
  },
  {
   "cell_type": "markdown",
   "metadata": {},
   "source": [
    "# Set up"
   ]
  },
  {
   "cell_type": "code",
   "execution_count": 5,
   "metadata": {},
   "outputs": [],
   "source": [
    "start_time = 0\n",
    "end_time = 60 * 100"
   ]
  },
  {
   "cell_type": "code",
   "execution_count": 6,
   "metadata": {},
   "outputs": [],
   "source": [
    "verbose = False\n",
    "tdump=open('avg_balance.csv','w')\n",
    "trial_id = 'JDM'\n",
    "dump_all = True"
   ]
  },
  {
   "cell_type": "markdown",
   "metadata": {},
   "source": [
    "# JDM function"
   ]
  },
  {
   "cell_type": "code",
   "execution_count": 10,
   "metadata": {},
   "outputs": [
    {
     "data": {
      "image/png": "[encoded data removed]",
      "text/plain": [
       "<Figure size 432x288 with 1 Axes>"
      ]
     },
     "metadata": {},
     "output_type": "display_data"
    },
    {
     "ename": "SystemExit",
     "evalue": "FAIL: 3rd argument of sched in getorderprice() not callable",
     "output_type": "error",
     "traceback": [
      "An exception has occurred, use %tb to see the full traceback.\n",
      "\u001b[0;31mSystemExit\u001b[0m\u001b[0;31m:\u001b[0m FAIL: 3rd argument of sched in getorderprice() not callable\n"
     ]
    }
   ],
   "source": [
    "j = merton_jump_paths(S, T, r, sigma, lam, m, v, steps, Npaths)\n",
    "range1 = (100,200, j)\n",
    "\n",
    "supply_schedule = [{'from': 0, 'to': end_time, 'ranges': [range1], 'stepmode':'fixed'}]\n",
    "             \n",
    "demand_schedule = supply_schedule\n",
    "\n",
    "sup_range = [range1]\n",
    "dem_range = sup_range\n",
    "sup_dem(100, sup_range, 100, dem_range, 'random')\n",
    "\n",
    "sellers_spec = [('ZIP', 10)]\n",
    "buyers_spec = sellers_spec\n",
    "traders_spec = {'sellers':sellers_spec, 'buyers':buyers_spec}\n",
    "\n",
    "order_interval = 10\n",
    "order_sched = {'sup': supply_schedule, 'dem': demand_schedule,\n",
    "               'interval': order_interval, 'timemode': 'drip-poisson'}\n",
    "\n",
    "n_sessions = 1\n",
    "\n",
    "x = np.empty(0)\n",
    "y = np.empty(0)\n",
    "\n",
    "for sess in range(n_sessions):\n",
    "    trial_id = 'JDM' + str(sess)\n",
    "\n",
    "    market_session(trial_id, start_time, end_time, traders_spec, order_sched, tdump, dump_all, verbose)\n",
    "\n",
    "    prices_fname = trial_id + '_transactions.csv'\n",
    "    with open(prices_fname, newline='') as csvfile:\n",
    "        reader = csv.reader(csvfile)\n",
    "        for row in reader:\n",
    "            time = float(row[1])\n",
    "            price = float(row[2])\n",
    "            x = np.append(x,time)\n",
    "            y = np.append(y,price)\n",
    "\n",
    "plt.plot(x, y, 'x', color='black');\n",
    "\n",
    "\n",
    "plt.plot(j)\n",
    "plt.xlabel('Hours')\n",
    "plt.ylabel('Stock Price')\n",
    "plt.title('Merton\\'s Jump Diffusion Process')"
   ]
  },
  {
   "cell_type": "markdown",
   "metadata": {},
   "source": []
  }
 ],
 "metadata": {
  "kernelspec": {
   "display_name": "Python 3",
   "language": "python",
   "name": "python3"
  },
  "language_info": {
   "codemirror_mode": {
    "name": "ipython",
    "version": 3
   },
   "file_extension": ".py",
   "mimetype": "text/x-python",
   "name": "python",
   "nbconvert_exporter": "python",
   "pygments_lexer": "ipython3",
   "version": "3.8.8"
  }
 },
 "nbformat": 4,
 "nbformat_minor": 4
}
