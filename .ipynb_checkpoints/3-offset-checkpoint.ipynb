{
 "cells": [
  {
   "cell_type": "markdown",
   "metadata": {
    "pycharm": {
     "name": "#%% md\n"
    },
    "tags": []
   },
   "source": [
    "# <center> BSE Test </center>\n",
    "<center> CM </center>"
   ]
  },
  {
   "cell_type": "markdown",
   "metadata": {
    "tags": []
   },
   "source": [
    "# Initial Setup "
   ]
  },
  {
   "cell_type": "code",
   "execution_count": 1,
   "metadata": {},
   "outputs": [],
   "source": [
    "# Initial Setup:\n",
    "\n",
    "import matplotlib.pyplot as plt\n",
    "import numpy as np\n",
    "import csv\n",
    "import math\n",
    "import random\n",
    "\n",
    "from BSE import market_session"
   ]
  },
  {
   "cell_type": "markdown",
   "metadata": {},
   "source": [
    "# Helpful functions"
   ]
  },
  {
   "cell_type": "code",
   "execution_count": 2,
   "metadata": {},
   "outputs": [],
   "source": [
    "# Use this to plot trades of a single experiment\n",
    "def plot_trades(trial_id):\n",
    "    prices_fname = trial_id + '_transactions.csv'\n",
    "    x = np.empty(0)\n",
    "    y = np.empty(0)\n",
    "    with open(prices_fname, newline='') as csvfile:\n",
    "        reader = csv.reader(csvfile)\n",
    "        for row in reader:\n",
    "            time = float(row[1])\n",
    "            price = float(row[2])\n",
    "            x = np.append(x,time)\n",
    "            y = np.append(y,price)\n",
    "\n",
    "    plt.plot(x, y, 'x', color='black') \n",
    "    \n",
    "# Use this to run an experiment n times and plot all trades\n",
    "def n_runs_plot(n, trial_id, start_time, end_time, traders_spec, order_sched):\n",
    "    x = np.empty(0)\n",
    "    y = np.empty(0)\n",
    "\n",
    "    for i in range(n):\n",
    "        trialId = trial_id + '_' + str(i)\n",
    "        tdump = open(trialId + '_avg_balance.csv','w')\n",
    "\n",
    "        market_session(trialId, start_time, end_time, traders_spec, order_sched, tdump, True, False)\n",
    "        \n",
    "        tdump.close()\n",
    "\n",
    "        with open(trialId + '_transactions.csv', newline='') as csvfile:\n",
    "            reader = csv.reader(csvfile)\n",
    "            for row in reader:\n",
    "                time = float(row[1])\n",
    "                price = float(row[2])\n",
    "                x = np.append(x,time)\n",
    "                y = np.append(y,price)\n",
    "\n",
    "    plt.plot(x, y, 'x', color='black');\n",
    "\n",
    "# !!! Don't use on it's own   \n",
    "def getorderprice(i, sched, n, mode):\n",
    "    pmin = min(sched[0][0], sched[0][1])\n",
    "    pmax = max(sched[0][0], sched[0][1])\n",
    "    prange = pmax - pmin\n",
    "    stepsize = prange / (n - 1)\n",
    "    halfstep = round(stepsize / 2.0)\n",
    "\n",
    "    if mode == 'fixed':\n",
    "        orderprice = pmin + int(i * stepsize)\n",
    "    elif mode == 'jittered':\n",
    "        orderprice = pmin + int(i * stepsize) + random.randint(-halfstep, halfstep)\n",
    "    elif mode == 'random':\n",
    "        if len(sched) > 1:\n",
    "            # more than one schedule: choose one equiprobably\n",
    "            s = random.randint(0, len(sched) - 1)\n",
    "            pmin = min(sched[s][0], sched[s][1])\n",
    "            pmax = max(sched[s][0], sched[s][1])\n",
    "        orderprice = random.randint(pmin, pmax)\n",
    "    return orderprice    \n",
    "\n",
    "# !!! Don't use on it's own\n",
    "def make_supply_demand_plot(bids, asks):\n",
    "    # total volume up to current order\n",
    "    volS = 0\n",
    "    volB = 0\n",
    "\n",
    "    fig, ax = plt.subplots()\n",
    "    plt.ylabel('Price')\n",
    "    plt.xlabel('Quantity')\n",
    "    \n",
    "    pr = 0\n",
    "    for b in bids:\n",
    "        if pr != 0:\n",
    "            # vertical line\n",
    "            ax.plot([volB,volB], [pr,b], 'r-')\n",
    "        # horizontal lines\n",
    "        line, = ax.plot([volB,volB+1], [b,b], 'r-')\n",
    "        volB += 1\n",
    "        pr = b\n",
    "    if bids:\n",
    "        line.set_label('Demand')\n",
    "        \n",
    "    pr = 0\n",
    "    for s in asks:\n",
    "        if pr != 0:\n",
    "            # vertical line\n",
    "            ax.plot([volS,volS], [pr,s], 'b-')\n",
    "        # horizontal lines\n",
    "        line, = ax.plot([volS,volS+1], [s,s], 'b-')\n",
    "        volS += 1\n",
    "        pr = s\n",
    "    if asks:\n",
    "        line.set_label('Supply')\n",
    "        \n",
    "    if bids or asks:\n",
    "        plt.legend()\n",
    "    plt.show()\n",
    "\n",
    "# Use this to plot supply and demand curves from supply and demand ranges and stepmode\n",
    "def sup_dem(seller_num, sup_ranges, buyer_num, dem_ranges, stepmode):\n",
    "    asks = []\n",
    "    for s in range(seller_num):\n",
    "        asks.append(getorderprice(s, sup_ranges, seller_num, stepmode))\n",
    "    asks.sort()\n",
    "    bids = []\n",
    "    for b in range(buyer_num):\n",
    "        bids.append(getorderprice(b, dem_ranges, buyer_num, stepmode))\n",
    "    bids.sort()\n",
    "    bids.reverse()\n",
    "    \n",
    "    make_supply_demand_plot(bids, asks) \n",
    "\n",
    "# plot sorted trades, useful is some situations - won't be used in this worksheet\n",
    "def in_order_plot(trial_id):\n",
    "    prices_fname = trial_id + '_transactions.csv'\n",
    "    y = np.empty(0)\n",
    "    with open(prices_fname, newline='') as csvfile:\n",
    "        reader = csv.reader(csvfile)\n",
    "        for row in reader:\n",
    "            price = float(row[2])\n",
    "            y = np.append(y,price)\n",
    "    y = np.sort(y)\n",
    "    x = list(range(len(y)))\n",
    "\n",
    "    plt.plot(x, y, 'x', color='black')  "
   ]
  },
  {
   "cell_type": "markdown",
   "metadata": {},
   "source": [
    "# Set up"
   ]
  },
  {
   "cell_type": "code",
   "execution_count": 3,
   "metadata": {},
   "outputs": [],
   "source": [
    "start_time = 0\n",
    "end_time = 60 * 60 "
   ]
  },
  {
   "cell_type": "code",
   "execution_count": 4,
   "metadata": {},
   "outputs": [],
   "source": [
    "verbose = True\n",
    "tdump=open('avg_balance.csv','w')\n",
    "trial_id = 'TEST_'\n",
    "dump_all = True"
   ]
  },
  {
   "cell_type": "markdown",
   "metadata": {},
   "source": [
    "# Offset functions "
   ]
  },
  {
   "cell_type": "code",
   "execution_count": 5,
   "metadata": {},
   "outputs": [],
   "source": [
    "def schedule_offsetfn(t):\n",
    "    pi2 = math.pi * 2\n",
    "    c = math.pi * 3000\n",
    "    wavelength = t / c\n",
    "    gradient = 100 * t / (c / pi2)\n",
    "    amplitude = 100 * t / (c / pi2)\n",
    "    offset = gradient + amplitude * math.sin(wavelength * t)\n",
    "    return int(round(offset, 0))\n",
    "\n",
    "range1 = (80,320,schedule_offsetfn)"
   ]
  },
  {
   "cell_type": "code",
   "execution_count": 6,
   "metadata": {},
   "outputs": [
    {
     "data": {
      "image/png": "[encoded data removed]",
      "text/plain": [
       "<Figure size 432x288 with 1 Axes>"
      ]
     },
     "metadata": {
      "needs_background": "light"
     },
     "output_type": "display_data"
    },
    {
     "name": "stdout",
     "output_type": "stream",
     "text": [
      "\n",
      "TEST_0;  \n",
      "\n",
      "TEST_1;  \n",
      "\n",
      "TEST_2;  \n",
      "\n",
      "TEST_3;  \n",
      "\n",
      "TEST_4;  \n",
      "\n",
      "TEST_5;  \n",
      "\n",
      "TEST_6;  \n",
      "\n",
      "TEST_7;  \n",
      "\n",
      "TEST_8;  \n",
      "\n",
      "TEST_9;  \n",
      "\n",
      "TEST_10;  \n",
      "\n",
      "TEST_11;  \n",
      "\n",
      "TEST_12;  \n",
      "\n",
      "TEST_13;  \n",
      "\n",
      "TEST_14;  \n",
      "\n",
      "TEST_15;  \n",
      "\n",
      "TEST_16;  \n",
      "\n",
      "TEST_17;  \n",
      "\n",
      "TEST_18;  \n",
      "\n",
      "TEST_19;  \n",
      "\n",
      "TEST_20;  \n",
      "\n",
      "TEST_21;  \n",
      "\n",
      "TEST_22;  \n",
      "\n",
      "TEST_23;  \n",
      "\n",
      "TEST_24;  \n",
      "\n",
      "TEST_25;  \n",
      "\n",
      "TEST_26;  \n",
      "\n",
      "TEST_27;  \n",
      "\n",
      "TEST_28;  \n",
      "\n",
      "TEST_29;  \n",
      "\n",
      "TEST_30;  \n",
      "\n",
      "TEST_31;  \n",
      "\n",
      "TEST_32;  \n",
      "\n",
      "TEST_33;  \n",
      "\n",
      "TEST_34;  \n",
      "\n",
      "TEST_35;  \n",
      "\n",
      "TEST_36;  \n",
      "\n",
      "TEST_37;  \n",
      "\n",
      "TEST_38;  \n",
      "\n",
      "TEST_39;  \n",
      "\n",
      "TEST_40;  \n",
      "\n",
      "TEST_41;  \n",
      "\n",
      "TEST_42;  \n",
      "\n",
      "TEST_43;  \n",
      "\n",
      "TEST_44;  \n",
      "\n",
      "TEST_45;  \n",
      "\n",
      "TEST_46;  \n",
      "\n",
      "TEST_47;  \n",
      "\n",
      "TEST_48;  \n",
      "\n",
      "TEST_49;  \n",
      "\n",
      "TEST_50;  \n",
      "\n",
      "TEST_51;  \n",
      "\n",
      "TEST_52;  \n",
      "\n",
      "TEST_53;  \n",
      "\n",
      "TEST_54;  \n",
      "\n",
      "TEST_55;  \n",
      "\n",
      "TEST_56;  \n",
      "\n",
      "TEST_57;  \n",
      "\n",
      "TEST_58;  \n",
      "\n",
      "TEST_59;  \n",
      "\n",
      "TEST_60;  \n",
      "\n",
      "TEST_61;  \n",
      "\n",
      "TEST_62;  \n",
      "\n",
      "TEST_63;  \n",
      "\n",
      "TEST_64;  \n",
      "\n",
      "TEST_65;  \n",
      "\n",
      "TEST_66;  \n",
      "\n",
      "TEST_67;  \n",
      "\n",
      "TEST_68;  \n",
      "\n",
      "TEST_69;  \n",
      "\n",
      "TEST_70;  \n",
      "\n",
      "TEST_71;  \n",
      "\n",
      "TEST_72;  \n",
      "\n",
      "TEST_73;  \n",
      "\n",
      "TEST_74;  \n",
      "\n",
      "TEST_75;  \n",
      "\n",
      "TEST_76;  \n",
      "\n",
      "TEST_77;  \n",
      "\n",
      "TEST_78;  \n",
      "\n",
      "TEST_79;  \n",
      "\n",
      "TEST_80;  \n",
      "\n",
      "TEST_81;  \n",
      "\n",
      "TEST_82;  \n",
      "\n",
      "TEST_83;  \n",
      "\n",
      "TEST_84;  \n",
      "\n",
      "TEST_85;  \n",
      "\n",
      "TEST_86;  \n",
      "\n",
      "TEST_87;  \n",
      "\n",
      "TEST_88;  \n",
      "\n",
      "TEST_89;  \n",
      "\n",
      "TEST_90;  \n",
      "\n",
      "TEST_91;  \n",
      "\n",
      "TEST_92;  \n",
      "\n",
      "TEST_93;  \n",
      "\n",
      "TEST_94;  \n",
      "\n",
      "TEST_95;  \n",
      "\n",
      "TEST_96;  \n",
      "\n",
      "TEST_97;  \n",
      "\n",
      "TEST_98;  \n",
      "\n",
      "TEST_99;  \n"
     ]
    },
    {
     "data": {
      "image/png": "[encoded data removed]",
      "text/plain": [
       "<Figure size 432x288 with 1 Axes>"
      ]
     },
     "metadata": {
      "needs_background": "light"
     },
     "output_type": "display_data"
    }
   ],
   "source": [
    "range1 = (80,320,schedule_offsetfn) #eq = 200, + offset function\n",
    "\n",
    "supply_schedule = [{'from': 0, 'to': end_time, 'ranges': [range1], 'stepmode':'fixed'}]\n",
    "             \n",
    "demand_schedule = supply_schedule\n",
    "\n",
    "sup_range = [range1]\n",
    "dem_range = sup_range\n",
    "sup_dem(50, sup_range, 50, dem_range, 'random')\n",
    "\n",
    "sellers_spec = [('ZIP', 10), ('ZIC', 10), ('SHVR', 10), ('GVWY', 10), ('PRZI', 10), ('PRSH', 10)]\n",
    "buyers_spec = sellers_spec\n",
    "traders_spec = {'sellers':sellers_spec, 'buyers':buyers_spec}\n",
    "\n",
    "order_interval = 10\n",
    "order_sched = {'sup': supply_schedule, 'dem': demand_schedule,\n",
    "               'interval': order_interval, 'timemode': 'drip-poisson'}\n",
    "\n",
    "n_sessions = 100\n",
    "\n",
    "x = np.empty(0)\n",
    "y = np.empty(0)\n",
    "\n",
    "for sess in range(n_sessions):\n",
    "    trial_id = 'TEST_' + str(sess)\n",
    "\n",
    "    market_session(trial_id, start_time, end_time, traders_spec, order_sched, tdump, dump_all, verbose)\n",
    "\n",
    "    prices_fname = trial_id + '_transactions.csv'\n",
    "    with open(prices_fname, newline='') as csvfile:\n",
    "        reader = csv.reader(csvfile)\n",
    "        for row in reader:\n",
    "            time = float(row[1])\n",
    "            price = float(row[2])\n",
    "            x = np.append(x,time)\n",
    "            y = np.append(y,price)\n",
    "\n",
    "plt.plot(x, y, 'x', color='black');\n"
   ]
  },
  {
   "cell_type": "markdown",
   "metadata": {},
   "source": []
  },
  {
   "cell_type": "code",
   "execution_count": 11,
   "metadata": {},
   "outputs": [
    {
     "data": {
      "text/plain": [
       "[{'from': 0,\n",
       "  'to': 3600,\n",
       "  'ranges': [(80, 320, <function __main__.schedule_offsetfn(t)>)],\n",
       "  'stepmode': 'fixed'}]"
      ]
     },
     "execution_count": 11,
     "metadata": {},
     "output_type": "execute_result"
    }
   ],
   "source": [
    "supply_schedule"
   ]
  },
  {
   "cell_type": "code",
   "execution_count": 17,
   "metadata": {},
   "outputs": [
    {
     "ename": "NameError",
     "evalue": "name 'ignore' is not defined",
     "output_type": "error",
     "traceback": [
      "\u001b[0;31m---------------------------------------------------------------------------\u001b[0m",
      "\u001b[0;31mNameError\u001b[0m                                 Traceback (most recent call last)",
      "\u001b[0;32m<ipython-input-17-d6bc44cd4ca3>\u001b[0m in \u001b[0;36m<module>\u001b[0;34m\u001b[0m\n\u001b[0;32m----> 1\u001b[0;31m \u001b[0mmarket_session\u001b[0m\u001b[0;34m(\u001b[0m\u001b[0mtrial_id\u001b[0m\u001b[0;34m=\u001b[0m\u001b[0mignore\u001b[0m\u001b[0;34m,\u001b[0m \u001b[0mstart_time\u001b[0m\u001b[0;34m=\u001b[0m\u001b[0;36m0\u001b[0m\u001b[0;34m,\u001b[0m \u001b[0mend_time\u001b[0m\u001b[0;34m=\u001b[0m\u001b[0;36m3600\u001b[0m\u001b[0;34m,\u001b[0m \u001b[0mtraders_spec\u001b[0m\u001b[0;34m=\u001b[0m\u001b[0mtraders_spec\u001b[0m\u001b[0;34m,\u001b[0m \u001b[0morder_sched\u001b[0m\u001b[0;34m=\u001b[0m\u001b[0morder_sched\u001b[0m\u001b[0;34m,\u001b[0m \u001b[0mtdump\u001b[0m\u001b[0;34m=\u001b[0m\u001b[0;32mTrue\u001b[0m\u001b[0;34m,\u001b[0m \u001b[0mdump_all\u001b[0m\u001b[0;34m=\u001b[0m\u001b[0;32mTrue\u001b[0m\u001b[0;34m,\u001b[0m \u001b[0mverbose\u001b[0m\u001b[0;34m=\u001b[0m\u001b[0;32mFalse\u001b[0m\u001b[0;34m)\u001b[0m\u001b[0;34m\u001b[0m\u001b[0;34m\u001b[0m\u001b[0m\n\u001b[0m",
      "\u001b[0;31mNameError\u001b[0m: name 'ignore' is not defined"
     ]
    }
   ],
   "source": [
    "market_session(trial_id=ignore, start_time=0, end_time=3600, traders_spec=traders_spec, order_sched=order_sched, tdump=True, dump_all=True, verbose=False)\n"
   ]
  },
  {
   "cell_type": "code",
   "execution_count": 23,
   "metadata": {},
   "outputs": [
    {
     "data": {
      "image/png": "[encoded data removed]",
      "text/plain": [
       "<Figure size 432x288 with 1 Axes>"
      ]
     },
     "metadata": {
      "needs_background": "light"
     },
     "output_type": "display_data"
    }
   ],
   "source": [
    "order_interval = 100\n",
    "\n",
    "plot_trades('TEST_8')"
   ]
  },
  {
   "cell_type": "code",
   "execution_count": null,
   "metadata": {},
   "outputs": [],
   "source": []
  }
 ],
 "metadata": {
  "kernelspec": {
   "display_name": "Python 3",
   "language": "python",
   "name": "python3"
  },
  "language_info": {
   "codemirror_mode": {
    "name": "ipython",
    "version": 3
   },
   "file_extension": ".py",
   "mimetype": "text/x-python",
   "name": "python",
   "nbconvert_exporter": "python",
   "pygments_lexer": "ipython3",
   "version": "3.8.8"
  }
 },
 "nbformat": 4,
 "nbformat_minor": 4
}
