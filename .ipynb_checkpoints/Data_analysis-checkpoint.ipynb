{
 "cells": [
  {
   "cell_type": "code",
   "execution_count": 16,
   "id": "3773fa16",
   "metadata": {},
   "outputs": [],
   "source": [
    "import matplotlib.pyplot as plt\n",
    "import csv\n",
    "import numpy as np\n",
    "import pandas as pd\n",
    "from pandas.api.types import CategoricalDtype\n"
   ]
  },
  {
   "cell_type": "code",
   "execution_count": 17,
   "id": "329f7b47",
   "metadata": {},
   "outputs": [
    {
     "name": "stdout",
     "output_type": "stream",
     "text": [
      "         0         1    2\n",
      "0      Trd     0.975  222\n",
      "1      Trd     1.592  259\n",
      "2      Trd     2.050  286\n",
      "3      Trd     3.042  214\n",
      "4      Trd     3.333  177\n",
      "...    ...       ...  ...\n",
      "10111  Trd  3599.250  459\n",
      "10112  Trd  3599.458  500\n",
      "10113  Trd  3599.583  582\n",
      "10114  Trd  3599.700  447\n",
      "10115  Trd  3599.758  441\n",
      "\n",
      "[10116 rows x 3 columns]\n"
     ]
    },
    {
     "data": {
      "text/plain": [
       "[<matplotlib.lines.Line2D at 0x7f8310045fd0>]"
      ]
     },
     "execution_count": 17,
     "metadata": {},
     "output_type": "execute_result"
    },
    {
     "data": {
      "image/png": "[encoded data removed]",
      "text/plain": [
       "<Figure size 432x288 with 1 Axes>"
      ]
     },
     "metadata": {
      "needs_background": "light"
     },
     "output_type": "display_data"
    }
   ],
   "source": [
    "n=0\n",
    "#trial_id = 'TEST_' + str(n)\n",
    "transactions = pd.read_csv('TEST_' + str(n) + '_transactions.csv', header=None)\n",
    "print(transactions)\n",
    "x = transactions.iloc[:,1]\n",
    "y = transactions.iloc[:,2]\n",
    "plt.plot(x,y)"
   ]
  },
  {
   "cell_type": "code",
   "execution_count": 18,
   "id": "6ad3dcfa",
   "metadata": {},
   "outputs": [
    {
     "data": {
      "text/html": [
       "<div>\n",
       "<style scoped>\n",
       "    .dataframe tbody tr th:only-of-type {\n",
       "        vertical-align: middle;\n",
       "    }\n",
       "\n",
       "    .dataframe tbody tr th {\n",
       "        vertical-align: top;\n",
       "    }\n",
       "\n",
       "    .dataframe thead th {\n",
       "        text-align: right;\n",
       "    }\n",
       "</style>\n",
       "<table border=\"1\" class=\"dataframe\">\n",
       "  <thead>\n",
       "    <tr style=\"text-align: right;\">\n",
       "      <th></th>\n",
       "      <th>Time</th>\n",
       "      <th>Price</th>\n",
       "      <th>Party1</th>\n",
       "      <th>Party2</th>\n",
       "    </tr>\n",
       "  </thead>\n",
       "  <tbody>\n",
       "    <tr>\n",
       "      <th>0</th>\n",
       "      <td>1329.8333333364606</td>\n",
       "      <td>238</td>\n",
       "      <td>B00</td>\n",
       "      <td>S07</td>\n",
       "    </tr>\n",
       "    <tr>\n",
       "      <th>1</th>\n",
       "      <td>1700.3250000078447</td>\n",
       "      <td>270</td>\n",
       "      <td>B00</td>\n",
       "      <td>S06</td>\n",
       "    </tr>\n",
       "    <tr>\n",
       "      <th>2</th>\n",
       "      <td>1914.7250000105746</td>\n",
       "      <td>318</td>\n",
       "      <td>B00</td>\n",
       "      <td>S44</td>\n",
       "    </tr>\n",
       "    <tr>\n",
       "      <th>3</th>\n",
       "      <td>1959.258333344475</td>\n",
       "      <td>303</td>\n",
       "      <td>B00</td>\n",
       "      <td>S22</td>\n",
       "    </tr>\n",
       "    <tr>\n",
       "      <th>4</th>\n",
       "      <td>2228.8916666763057</td>\n",
       "      <td>333</td>\n",
       "      <td>B00</td>\n",
       "      <td>S24</td>\n",
       "    </tr>\n",
       "    <tr>\n",
       "      <th>...</th>\n",
       "      <td>...</td>\n",
       "      <td>...</td>\n",
       "      <td>...</td>\n",
       "      <td>...</td>\n",
       "    </tr>\n",
       "    <tr>\n",
       "      <th>20346</th>\n",
       "      <td>3544.9249999904882</td>\n",
       "      <td>497</td>\n",
       "      <td>S59</td>\n",
       "      <td>B36</td>\n",
       "    </tr>\n",
       "    <tr>\n",
       "      <th>20347</th>\n",
       "      <td>3554.1999999903533</td>\n",
       "      <td>487</td>\n",
       "      <td>S59</td>\n",
       "      <td>B15</td>\n",
       "    </tr>\n",
       "    <tr>\n",
       "      <th>20348</th>\n",
       "      <td>3562.516666656899</td>\n",
       "      <td>523</td>\n",
       "      <td>S59</td>\n",
       "      <td>B01</td>\n",
       "    </tr>\n",
       "    <tr>\n",
       "      <th>20349</th>\n",
       "      <td>3580.6166666566355</td>\n",
       "      <td>580</td>\n",
       "      <td>S59</td>\n",
       "      <td>B50</td>\n",
       "    </tr>\n",
       "    <tr>\n",
       "      <th>20350</th>\n",
       "      <td>3596.424999989739</td>\n",
       "      <td>531</td>\n",
       "      <td>S59</td>\n",
       "      <td>B32</td>\n",
       "    </tr>\n",
       "  </tbody>\n",
       "</table>\n",
       "<p>20351 rows × 4 columns</p>\n",
       "</div>"
      ],
      "text/plain": [
       "                       Time  Price Party1 Party2\n",
       "0        1329.8333333364606    238    B00    S07\n",
       "1        1700.3250000078447    270    B00    S06\n",
       "2        1914.7250000105746    318    B00    S44\n",
       "3         1959.258333344475    303    B00    S22\n",
       "4        2228.8916666763057    333    B00    S24\n",
       "...                     ...    ...    ...    ...\n",
       "20346    3544.9249999904882    497    S59    B36\n",
       "20347    3554.1999999903533    487    S59    B15\n",
       "20348     3562.516666656899    523    S59    B01\n",
       "20349    3580.6166666566355    580    S59    B50\n",
       "20350     3596.424999989739    531    S59    B32\n",
       "\n",
       "[20351 rows x 4 columns]"
      ]
     },
     "execution_count": 18,
     "metadata": {},
     "output_type": "execute_result"
    }
   ],
   "source": [
    "blotters = pd.read_csv('TEST_' + str(n) + '_blotters.csv', header=0)\n",
    "blotters = blotters.reset_index()\n",
    "blotters = blotters.iloc[:,[3,4,5,6]]\n",
    "blotters.columns = ['Time', 'Price', 'Party1', 'Party2']\n",
    "blotters['Time'] = blotters['Time'].str.replace('\\'time\\':', \"\")\n",
    "blotters['Price'] = blotters['Price'].str.replace('\\'price\\':', \"\")\n",
    "blotters['Party1'] = blotters['Party1'].str.replace('\\'party1\\':', \"\")\n",
    "blotters['Party2'] = blotters['Party2'].str.replace('\\'party2\\':', \"\")\n",
    "blotters['Party1'] = blotters['Party1'].str.replace(\"\\'\",\"\")\n",
    "blotters['Party2'] = blotters['Party2'].str.replace(\"\\'\",\"\")\n",
    "\n",
    "blotters"
   ]
  },
  {
   "cell_type": "code",
   "execution_count": 19,
   "id": "15caab98",
   "metadata": {},
   "outputs": [
    {
     "data": {
      "text/html": [
       "<div>\n",
       "<style scoped>\n",
       "    .dataframe tbody tr th:only-of-type {\n",
       "        vertical-align: middle;\n",
       "    }\n",
       "\n",
       "    .dataframe tbody tr th {\n",
       "        vertical-align: top;\n",
       "    }\n",
       "\n",
       "    .dataframe thead th {\n",
       "        text-align: right;\n",
       "    }\n",
       "</style>\n",
       "<table border=\"1\" class=\"dataframe\">\n",
       "  <thead>\n",
       "    <tr style=\"text-align: right;\">\n",
       "      <th></th>\n",
       "      <th>Time</th>\n",
       "      <th>Price</th>\n",
       "      <th>Party1</th>\n",
       "      <th>Party2</th>\n",
       "      <th>BuyerType</th>\n",
       "      <th>SellerType</th>\n",
       "    </tr>\n",
       "  </thead>\n",
       "  <tbody>\n",
       "    <tr>\n",
       "      <th>0</th>\n",
       "      <td>1329.8333333364606</td>\n",
       "      <td>238</td>\n",
       "      <td>B00</td>\n",
       "      <td>S07</td>\n",
       "      <td>ZIP</td>\n",
       "      <td>ZIP</td>\n",
       "    </tr>\n",
       "    <tr>\n",
       "      <th>1</th>\n",
       "      <td>1700.3250000078447</td>\n",
       "      <td>270</td>\n",
       "      <td>B00</td>\n",
       "      <td>S06</td>\n",
       "      <td>ZIP</td>\n",
       "      <td>ZIP</td>\n",
       "    </tr>\n",
       "    <tr>\n",
       "      <th>2</th>\n",
       "      <td>1914.7250000105746</td>\n",
       "      <td>318</td>\n",
       "      <td>B00</td>\n",
       "      <td>S44</td>\n",
       "      <td>ZIP</td>\n",
       "      <td>PRZI</td>\n",
       "    </tr>\n",
       "    <tr>\n",
       "      <th>3</th>\n",
       "      <td>1959.258333344475</td>\n",
       "      <td>303</td>\n",
       "      <td>B00</td>\n",
       "      <td>S22</td>\n",
       "      <td>ZIP</td>\n",
       "      <td>SHVR</td>\n",
       "    </tr>\n",
       "    <tr>\n",
       "      <th>4</th>\n",
       "      <td>2228.8916666763057</td>\n",
       "      <td>333</td>\n",
       "      <td>B00</td>\n",
       "      <td>S24</td>\n",
       "      <td>ZIP</td>\n",
       "      <td>SHVR</td>\n",
       "    </tr>\n",
       "    <tr>\n",
       "      <th>...</th>\n",
       "      <td>...</td>\n",
       "      <td>...</td>\n",
       "      <td>...</td>\n",
       "      <td>...</td>\n",
       "      <td>...</td>\n",
       "      <td>...</td>\n",
       "    </tr>\n",
       "    <tr>\n",
       "      <th>20346</th>\n",
       "      <td>3544.9249999904882</td>\n",
       "      <td>497</td>\n",
       "      <td>S59</td>\n",
       "      <td>B36</td>\n",
       "      <td>GVWY</td>\n",
       "      <td>PRSH</td>\n",
       "    </tr>\n",
       "    <tr>\n",
       "      <th>20347</th>\n",
       "      <td>3554.1999999903533</td>\n",
       "      <td>487</td>\n",
       "      <td>S59</td>\n",
       "      <td>B15</td>\n",
       "      <td>ZIC</td>\n",
       "      <td>PRSH</td>\n",
       "    </tr>\n",
       "    <tr>\n",
       "      <th>20348</th>\n",
       "      <td>3562.516666656899</td>\n",
       "      <td>523</td>\n",
       "      <td>S59</td>\n",
       "      <td>B01</td>\n",
       "      <td>ZIP</td>\n",
       "      <td>PRSH</td>\n",
       "    </tr>\n",
       "    <tr>\n",
       "      <th>20349</th>\n",
       "      <td>3580.6166666566355</td>\n",
       "      <td>580</td>\n",
       "      <td>S59</td>\n",
       "      <td>B50</td>\n",
       "      <td>PRSH</td>\n",
       "      <td>PRSH</td>\n",
       "    </tr>\n",
       "    <tr>\n",
       "      <th>20350</th>\n",
       "      <td>3596.424999989739</td>\n",
       "      <td>531</td>\n",
       "      <td>S59</td>\n",
       "      <td>B32</td>\n",
       "      <td>GVWY</td>\n",
       "      <td>PRSH</td>\n",
       "    </tr>\n",
       "  </tbody>\n",
       "</table>\n",
       "<p>20351 rows × 6 columns</p>\n",
       "</div>"
      ],
      "text/plain": [
       "                       Time  Price Party1 Party2 BuyerType SellerType\n",
       "0        1329.8333333364606    238    B00    S07       ZIP        ZIP\n",
       "1        1700.3250000078447    270    B00    S06       ZIP        ZIP\n",
       "2        1914.7250000105746    318    B00    S44       ZIP       PRZI\n",
       "3         1959.258333344475    303    B00    S22       ZIP       SHVR\n",
       "4        2228.8916666763057    333    B00    S24       ZIP       SHVR\n",
       "...                     ...    ...    ...    ...       ...        ...\n",
       "20346    3544.9249999904882    497    S59    B36      GVWY       PRSH\n",
       "20347    3554.1999999903533    487    S59    B15       ZIC       PRSH\n",
       "20348     3562.516666656899    523    S59    B01       ZIP       PRSH\n",
       "20349    3580.6166666566355    580    S59    B50      PRSH       PRSH\n",
       "20350     3596.424999989739    531    S59    B32      GVWY       PRSH\n",
       "\n",
       "[20351 rows x 6 columns]"
      ]
     },
     "execution_count": 19,
     "metadata": {},
     "output_type": "execute_result"
    }
   ],
   "source": [
    "TraderTypes = pd.Series([\"ZIP\", \"ZIC\", \"SHVR\", \"GVWY\", \"PRZI\", \"PRSH\"])\n",
    "\n",
    "blotters['BuyerType'] = blotters.Party1\n",
    "blotters.BuyerType = np.where(pd.Series(blotters.Party1).str.contains('B0.'), 'ZIP', blotters.BuyerType)\n",
    "blotters.BuyerType = np.where(pd.Series(blotters.Party1).str.contains('B1.'), 'ZIC', blotters.BuyerType)\n",
    "blotters.BuyerType = np.where(pd.Series(blotters.Party1).str.contains('B2.'), 'SHVR', blotters.BuyerType)\n",
    "blotters.BuyerType = np.where(pd.Series(blotters.Party1).str.contains('B3.'), 'GVWY', blotters.BuyerType)\n",
    "blotters.BuyerType = np.where(pd.Series(blotters.Party1).str.contains('B4.'), 'PRZI', blotters.BuyerType)\n",
    "blotters.BuyerType = np.where(pd.Series(blotters.Party1).str.contains('B5.'), 'PRSH', blotters.BuyerType)\n",
    "blotters.BuyerType = np.where(pd.Series(blotters.Party2).str.contains('B0.'), 'ZIP', blotters.BuyerType)\n",
    "blotters.BuyerType = np.where(pd.Series(blotters.Party2).str.contains('B1.'), 'ZIC', blotters.BuyerType)\n",
    "blotters.BuyerType = np.where(pd.Series(blotters.Party2).str.contains('B2.'), 'SHVR', blotters.BuyerType)\n",
    "blotters.BuyerType = np.where(pd.Series(blotters.Party2).str.contains('B3.'), 'GVWY', blotters.BuyerType)\n",
    "blotters.BuyerType = np.where(pd.Series(blotters.Party2).str.contains('B4.'), 'PRZI', blotters.BuyerType)\n",
    "blotters.BuyerType = np.where(pd.Series(blotters.Party2).str.contains('B5.'), 'PRSH', blotters.BuyerType)\n",
    "blotters.BuyerType = blotters.BuyerType.astype(CategoricalDtype())\n",
    "\n",
    "blotters['SellerType'] = blotters.Party1\n",
    "blotters.SellerType = np.where(pd.Series(blotters.Party1).str.contains('S0.'), 'ZIP', blotters.SellerType)\n",
    "blotters.SellerType = np.where(pd.Series(blotters.Party1).str.contains('S1.'), 'ZIC', blotters.SellerType)\n",
    "blotters.SellerType = np.where(pd.Series(blotters.Party1).str.contains('S2.'), 'SHVR', blotters.SellerType)\n",
    "blotters.SellerType = np.where(pd.Series(blotters.Party1).str.contains('S3.'), 'GVWY', blotters.SellerType)\n",
    "blotters.SellerType = np.where(pd.Series(blotters.Party1).str.contains('S4.'), 'PRZI', blotters.SellerType)\n",
    "blotters.SellerType = np.where(pd.Series(blotters.Party1).str.contains('S5.'), 'PRSH', blotters.SellerType)\n",
    "blotters.SellerType = np.where(pd.Series(blotters.Party2).str.contains('S0.'), 'ZIP', blotters.SellerType)\n",
    "blotters.SellerType = np.where(pd.Series(blotters.Party2).str.contains('S1.'), 'ZIC', blotters.SellerType)\n",
    "blotters.SellerType = np.where(pd.Series(blotters.Party2).str.contains('S2.'), 'SHVR', blotters.SellerType)\n",
    "blotters.SellerType = np.where(pd.Series(blotters.Party2).str.contains('S3.'), 'GVWY', blotters.SellerType)\n",
    "blotters.SellerType = np.where(pd.Series(blotters.Party2).str.contains('S4.'), 'PRZI', blotters.SellerType)\n",
    "blotters.SellerType = np.where(pd.Series(blotters.Party2).str.contains('S5.'), 'PRSH', blotters.SellerType)\n",
    "blotters.SellerType = blotters.SellerType.astype(CategoricalDtype())\n",
    "blotters"
   ]
  },
  {
   "cell_type": "code",
   "execution_count": 23,
   "id": "5f4be59c",
   "metadata": {},
   "outputs": [
    {
     "data": {
      "text/html": [
       "<div>\n",
       "<style scoped>\n",
       "    .dataframe tbody tr th:only-of-type {\n",
       "        vertical-align: middle;\n",
       "    }\n",
       "\n",
       "    .dataframe tbody tr th {\n",
       "        vertical-align: top;\n",
       "    }\n",
       "\n",
       "    .dataframe thead th {\n",
       "        text-align: right;\n",
       "    }\n",
       "</style>\n",
       "<table border=\"1\" class=\"dataframe\">\n",
       "  <thead>\n",
       "    <tr style=\"text-align: right;\">\n",
       "      <th></th>\n",
       "      <th>Time</th>\n",
       "      <th>Price</th>\n",
       "      <th>Party1</th>\n",
       "      <th>Party2</th>\n",
       "      <th>BuyerType</th>\n",
       "      <th>SellerType</th>\n",
       "    </tr>\n",
       "  </thead>\n",
       "  <tbody>\n",
       "    <tr>\n",
       "      <th>3393</th>\n",
       "      <td>0.974999999999999</td>\n",
       "      <td>222</td>\n",
       "      <td>B35</td>\n",
       "      <td>S09</td>\n",
       "      <td>GVWY</td>\n",
       "      <td>ZIP</td>\n",
       "    </tr>\n",
       "    <tr>\n",
       "      <th>9042</th>\n",
       "      <td>1.5916666666666635</td>\n",
       "      <td>259</td>\n",
       "      <td>B56</td>\n",
       "      <td>S07</td>\n",
       "      <td>PRSH</td>\n",
       "      <td>ZIP</td>\n",
       "    </tr>\n",
       "    <tr>\n",
       "      <th>9849</th>\n",
       "      <td>10.016666666666739</td>\n",
       "      <td>208</td>\n",
       "      <td>B59</td>\n",
       "      <td>S10</td>\n",
       "      <td>PRSH</td>\n",
       "      <td>ZIC</td>\n",
       "    </tr>\n",
       "    <tr>\n",
       "      <th>5859</th>\n",
       "      <td>10.033333333333404</td>\n",
       "      <td>223</td>\n",
       "      <td>S35</td>\n",
       "      <td>B45</td>\n",
       "      <td>PRZI</td>\n",
       "      <td>GVWY</td>\n",
       "    </tr>\n",
       "    <tr>\n",
       "      <th>6664</th>\n",
       "      <td>10.100000000000067</td>\n",
       "      <td>229</td>\n",
       "      <td>S21</td>\n",
       "      <td>B48</td>\n",
       "      <td>PRZI</td>\n",
       "      <td>SHVR</td>\n",
       "    </tr>\n",
       "    <tr>\n",
       "      <th>...</th>\n",
       "      <td>...</td>\n",
       "      <td>...</td>\n",
       "      <td>...</td>\n",
       "      <td>...</td>\n",
       "      <td>...</td>\n",
       "      <td>...</td>\n",
       "    </tr>\n",
       "    <tr>\n",
       "      <th>9370</th>\n",
       "      <td>998.6249999992561</td>\n",
       "      <td>277</td>\n",
       "      <td>S13</td>\n",
       "      <td>B57</td>\n",
       "      <td>PRSH</td>\n",
       "      <td>ZIC</td>\n",
       "    </tr>\n",
       "    <tr>\n",
       "      <th>6757</th>\n",
       "      <td>998.6333333325895</td>\n",
       "      <td>257</td>\n",
       "      <td>B48</td>\n",
       "      <td>S39</td>\n",
       "      <td>PRZI</td>\n",
       "      <td>GVWY</td>\n",
       "    </tr>\n",
       "    <tr>\n",
       "      <th>5147</th>\n",
       "      <td>998.9166666659225</td>\n",
       "      <td>250</td>\n",
       "      <td>B42</td>\n",
       "      <td>S04</td>\n",
       "      <td>PRZI</td>\n",
       "      <td>ZIP</td>\n",
       "    </tr>\n",
       "    <tr>\n",
       "      <th>5412</th>\n",
       "      <td>999.491666665922</td>\n",
       "      <td>250</td>\n",
       "      <td>B43</td>\n",
       "      <td>S35</td>\n",
       "      <td>PRZI</td>\n",
       "      <td>GVWY</td>\n",
       "    </tr>\n",
       "    <tr>\n",
       "      <th>3980</th>\n",
       "      <td>999.8333333325884</td>\n",
       "      <td>242</td>\n",
       "      <td>B37</td>\n",
       "      <td>S33</td>\n",
       "      <td>GVWY</td>\n",
       "      <td>GVWY</td>\n",
       "    </tr>\n",
       "  </tbody>\n",
       "</table>\n",
       "<p>10116 rows × 6 columns</p>\n",
       "</div>"
      ],
      "text/plain": [
       "                      Time  Price Party1 Party2 BuyerType SellerType\n",
       "3393     0.974999999999999    222    B35    S09      GVWY        ZIP\n",
       "9042    1.5916666666666635    259    B56    S07      PRSH        ZIP\n",
       "9849    10.016666666666739    208    B59    S10      PRSH        ZIC\n",
       "5859    10.033333333333404    223    S35    B45      PRZI       GVWY\n",
       "6664    10.100000000000067    229    S21    B48      PRZI       SHVR\n",
       "...                    ...    ...    ...    ...       ...        ...\n",
       "9370     998.6249999992561    277    S13    B57      PRSH        ZIC\n",
       "6757     998.6333333325895    257    B48    S39      PRZI       GVWY\n",
       "5147     998.9166666659225    250    B42    S04      PRZI        ZIP\n",
       "5412      999.491666665922    250    B43    S35      PRZI       GVWY\n",
       "3980     999.8333333325884    242    B37    S33      GVWY       GVWY\n",
       "\n",
       "[10116 rows x 6 columns]"
      ]
     },
     "execution_count": 23,
     "metadata": {},
     "output_type": "execute_result"
    }
   ],
   "source": [
    "blotters = blotters.drop_duplicates()\n",
    "blotters = blotters.dropna()\n",
    "blotters.sort_values(by='Time', inplace=True)\n",
    "blotters"
   ]
  },
  {
   "cell_type": "code",
   "execution_count": 43,
   "id": "5eae379c",
   "metadata": {},
   "outputs": [
    {
     "data": {
      "text/plain": [
       "<pandas.core.groupby.generic.DataFrameGroupBy object at 0x7f8363dd7f40>"
      ]
     },
     "execution_count": 43,
     "metadata": {},
     "output_type": "execute_result"
    }
   ],
   "source": [
    "groupby_buyers = blotters.groupby('BuyerType')\n",
    "groupby_sellers = blotters.groupby('SellerType')\n",
    "groupby_buyers"
   ]
  },
  {
   "cell_type": "code",
   "execution_count": 50,
   "id": "5f8d3c85",
   "metadata": {},
   "outputs": [
    {
     "ename": "DataError",
     "evalue": "No numeric types to aggregate",
     "output_type": "error",
     "traceback": [
      "\u001b[0;31m---------------------------------------------------------------------------\u001b[0m",
      "\u001b[0;31mDataError\u001b[0m                                 Traceback (most recent call last)",
      "\u001b[0;32m<ipython-input-50-805f7e3d1901>\u001b[0m in \u001b[0;36m<module>\u001b[0;34m\u001b[0m\n\u001b[0;32m----> 1\u001b[0;31m \u001b[0mblotters\u001b[0m\u001b[0;34m.\u001b[0m\u001b[0mgroupby\u001b[0m\u001b[0;34m(\u001b[0m\u001b[0;34m'BuyerType'\u001b[0m\u001b[0;34m)\u001b[0m\u001b[0;34m.\u001b[0m\u001b[0mPrice\u001b[0m\u001b[0;34m.\u001b[0m\u001b[0magg\u001b[0m\u001b[0;34m(\u001b[0m\u001b[0;34m[\u001b[0m\u001b[0;34m'max'\u001b[0m\u001b[0;34m,\u001b[0m \u001b[0;34m'min'\u001b[0m\u001b[0;34m,\u001b[0m \u001b[0;34m'count'\u001b[0m\u001b[0;34m,\u001b[0m \u001b[0;34m'median'\u001b[0m\u001b[0;34m,\u001b[0m \u001b[0;34m'mean'\u001b[0m\u001b[0;34m]\u001b[0m\u001b[0;34m)\u001b[0m\u001b[0;34m\u001b[0m\u001b[0;34m\u001b[0m\u001b[0m\n\u001b[0m",
      "\u001b[0;32m~/opt/anaconda3/lib/python3.8/site-packages/pandas/core/groupby/generic.py\u001b[0m in \u001b[0;36maggregate\u001b[0;34m(self, func, engine, engine_kwargs, *args, **kwargs)\u001b[0m\n\u001b[1;32m    245\u001b[0m             \u001b[0;31m# but not the class list / tuple itself.\u001b[0m\u001b[0;34m\u001b[0m\u001b[0;34m\u001b[0m\u001b[0;34m\u001b[0m\u001b[0m\n\u001b[1;32m    246\u001b[0m             \u001b[0mfunc\u001b[0m \u001b[0;34m=\u001b[0m \u001b[0mmaybe_mangle_lambdas\u001b[0m\u001b[0;34m(\u001b[0m\u001b[0mfunc\u001b[0m\u001b[0;34m)\u001b[0m\u001b[0;34m\u001b[0m\u001b[0;34m\u001b[0m\u001b[0m\n\u001b[0;32m--> 247\u001b[0;31m             \u001b[0mret\u001b[0m \u001b[0;34m=\u001b[0m \u001b[0mself\u001b[0m\u001b[0;34m.\u001b[0m\u001b[0m_aggregate_multiple_funcs\u001b[0m\u001b[0;34m(\u001b[0m\u001b[0mfunc\u001b[0m\u001b[0;34m)\u001b[0m\u001b[0;34m\u001b[0m\u001b[0;34m\u001b[0m\u001b[0m\n\u001b[0m\u001b[1;32m    248\u001b[0m             \u001b[0;32mif\u001b[0m \u001b[0mrelabeling\u001b[0m\u001b[0;34m:\u001b[0m\u001b[0;34m\u001b[0m\u001b[0;34m\u001b[0m\u001b[0m\n\u001b[1;32m    249\u001b[0m                 \u001b[0mret\u001b[0m\u001b[0;34m.\u001b[0m\u001b[0mcolumns\u001b[0m \u001b[0;34m=\u001b[0m \u001b[0mcolumns\u001b[0m\u001b[0;34m\u001b[0m\u001b[0;34m\u001b[0m\u001b[0m\n",
      "\u001b[0;32m~/opt/anaconda3/lib/python3.8/site-packages/pandas/core/groupby/generic.py\u001b[0m in \u001b[0;36m_aggregate_multiple_funcs\u001b[0;34m(self, arg)\u001b[0m\n\u001b[1;32m    313\u001b[0m                 \u001b[0mobj\u001b[0m\u001b[0;34m.\u001b[0m\u001b[0m_reset_cache\u001b[0m\u001b[0;34m(\u001b[0m\u001b[0;34m)\u001b[0m\u001b[0;34m\u001b[0m\u001b[0;34m\u001b[0m\u001b[0m\n\u001b[1;32m    314\u001b[0m                 \u001b[0mobj\u001b[0m\u001b[0;34m.\u001b[0m\u001b[0m_selection\u001b[0m \u001b[0;34m=\u001b[0m \u001b[0mname\u001b[0m\u001b[0;34m\u001b[0m\u001b[0;34m\u001b[0m\u001b[0m\n\u001b[0;32m--> 315\u001b[0;31m             \u001b[0mresults\u001b[0m\u001b[0;34m[\u001b[0m\u001b[0mbase\u001b[0m\u001b[0;34m.\u001b[0m\u001b[0mOutputKey\u001b[0m\u001b[0;34m(\u001b[0m\u001b[0mlabel\u001b[0m\u001b[0;34m=\u001b[0m\u001b[0mname\u001b[0m\u001b[0;34m,\u001b[0m \u001b[0mposition\u001b[0m\u001b[0;34m=\u001b[0m\u001b[0midx\u001b[0m\u001b[0;34m)\u001b[0m\u001b[0;34m]\u001b[0m \u001b[0;34m=\u001b[0m \u001b[0mobj\u001b[0m\u001b[0;34m.\u001b[0m\u001b[0maggregate\u001b[0m\u001b[0;34m(\u001b[0m\u001b[0mfunc\u001b[0m\u001b[0;34m)\u001b[0m\u001b[0;34m\u001b[0m\u001b[0;34m\u001b[0m\u001b[0m\n\u001b[0m\u001b[1;32m    316\u001b[0m \u001b[0;34m\u001b[0m\u001b[0m\n\u001b[1;32m    317\u001b[0m         \u001b[0;32mif\u001b[0m \u001b[0many\u001b[0m\u001b[0;34m(\u001b[0m\u001b[0misinstance\u001b[0m\u001b[0;34m(\u001b[0m\u001b[0mx\u001b[0m\u001b[0;34m,\u001b[0m \u001b[0mDataFrame\u001b[0m\u001b[0;34m)\u001b[0m \u001b[0;32mfor\u001b[0m \u001b[0mx\u001b[0m \u001b[0;32min\u001b[0m \u001b[0mresults\u001b[0m\u001b[0;34m.\u001b[0m\u001b[0mvalues\u001b[0m\u001b[0;34m(\u001b[0m\u001b[0;34m)\u001b[0m\u001b[0;34m)\u001b[0m\u001b[0;34m:\u001b[0m\u001b[0;34m\u001b[0m\u001b[0;34m\u001b[0m\u001b[0m\n",
      "\u001b[0;32m~/opt/anaconda3/lib/python3.8/site-packages/pandas/core/groupby/generic.py\u001b[0m in \u001b[0;36maggregate\u001b[0;34m(self, func, engine, engine_kwargs, *args, **kwargs)\u001b[0m\n\u001b[1;32m    239\u001b[0m \u001b[0;34m\u001b[0m\u001b[0m\n\u001b[1;32m    240\u001b[0m         \u001b[0;32mif\u001b[0m \u001b[0misinstance\u001b[0m\u001b[0;34m(\u001b[0m\u001b[0mfunc\u001b[0m\u001b[0;34m,\u001b[0m \u001b[0mstr\u001b[0m\u001b[0;34m)\u001b[0m\u001b[0;34m:\u001b[0m\u001b[0;34m\u001b[0m\u001b[0;34m\u001b[0m\u001b[0m\n\u001b[0;32m--> 241\u001b[0;31m             \u001b[0;32mreturn\u001b[0m \u001b[0mgetattr\u001b[0m\u001b[0;34m(\u001b[0m\u001b[0mself\u001b[0m\u001b[0;34m,\u001b[0m \u001b[0mfunc\u001b[0m\u001b[0;34m)\u001b[0m\u001b[0;34m(\u001b[0m\u001b[0;34m*\u001b[0m\u001b[0margs\u001b[0m\u001b[0;34m,\u001b[0m \u001b[0;34m**\u001b[0m\u001b[0mkwargs\u001b[0m\u001b[0;34m)\u001b[0m\u001b[0;34m\u001b[0m\u001b[0;34m\u001b[0m\u001b[0m\n\u001b[0m\u001b[1;32m    242\u001b[0m \u001b[0;34m\u001b[0m\u001b[0m\n\u001b[1;32m    243\u001b[0m         \u001b[0;32melif\u001b[0m \u001b[0misinstance\u001b[0m\u001b[0;34m(\u001b[0m\u001b[0mfunc\u001b[0m\u001b[0;34m,\u001b[0m \u001b[0mabc\u001b[0m\u001b[0;34m.\u001b[0m\u001b[0mIterable\u001b[0m\u001b[0;34m)\u001b[0m\u001b[0;34m:\u001b[0m\u001b[0;34m\u001b[0m\u001b[0;34m\u001b[0m\u001b[0m\n",
      "\u001b[0;32m~/opt/anaconda3/lib/python3.8/site-packages/pandas/core/groupby/groupby.py\u001b[0m in \u001b[0;36mmedian\u001b[0;34m(self, numeric_only)\u001b[0m\n\u001b[1;32m   1520\u001b[0m             \u001b[0mMedian\u001b[0m \u001b[0mof\u001b[0m \u001b[0mvalues\u001b[0m \u001b[0mwithin\u001b[0m \u001b[0meach\u001b[0m \u001b[0mgroup\u001b[0m\u001b[0;34m.\u001b[0m\u001b[0;34m\u001b[0m\u001b[0;34m\u001b[0m\u001b[0m\n\u001b[1;32m   1521\u001b[0m         \"\"\"\n\u001b[0;32m-> 1522\u001b[0;31m         return self._cython_agg_general(\n\u001b[0m\u001b[1;32m   1523\u001b[0m             \u001b[0;34m\"median\"\u001b[0m\u001b[0;34m,\u001b[0m\u001b[0;34m\u001b[0m\u001b[0;34m\u001b[0m\u001b[0m\n\u001b[1;32m   1524\u001b[0m             \u001b[0malt\u001b[0m\u001b[0;34m=\u001b[0m\u001b[0;32mlambda\u001b[0m \u001b[0mx\u001b[0m\u001b[0;34m,\u001b[0m \u001b[0maxis\u001b[0m\u001b[0;34m:\u001b[0m \u001b[0mSeries\u001b[0m\u001b[0;34m(\u001b[0m\u001b[0mx\u001b[0m\u001b[0;34m)\u001b[0m\u001b[0;34m.\u001b[0m\u001b[0mmedian\u001b[0m\u001b[0;34m(\u001b[0m\u001b[0maxis\u001b[0m\u001b[0;34m=\u001b[0m\u001b[0maxis\u001b[0m\u001b[0;34m,\u001b[0m \u001b[0mnumeric_only\u001b[0m\u001b[0;34m=\u001b[0m\u001b[0mnumeric_only\u001b[0m\u001b[0;34m)\u001b[0m\u001b[0;34m,\u001b[0m\u001b[0;34m\u001b[0m\u001b[0;34m\u001b[0m\u001b[0m\n",
      "\u001b[0;32m~/opt/anaconda3/lib/python3.8/site-packages/pandas/core/groupby/groupby.py\u001b[0m in \u001b[0;36m_cython_agg_general\u001b[0;34m(self, how, alt, numeric_only, min_count)\u001b[0m\n\u001b[1;32m   1079\u001b[0m \u001b[0;34m\u001b[0m\u001b[0m\n\u001b[1;32m   1080\u001b[0m         \u001b[0;32mif\u001b[0m \u001b[0;32mnot\u001b[0m \u001b[0moutput\u001b[0m\u001b[0;34m:\u001b[0m\u001b[0;34m\u001b[0m\u001b[0;34m\u001b[0m\u001b[0m\n\u001b[0;32m-> 1081\u001b[0;31m             \u001b[0;32mraise\u001b[0m \u001b[0mDataError\u001b[0m\u001b[0;34m(\u001b[0m\u001b[0;34m\"No numeric types to aggregate\"\u001b[0m\u001b[0;34m)\u001b[0m\u001b[0;34m\u001b[0m\u001b[0;34m\u001b[0m\u001b[0m\n\u001b[0m\u001b[1;32m   1082\u001b[0m \u001b[0;34m\u001b[0m\u001b[0m\n\u001b[1;32m   1083\u001b[0m         \u001b[0;32mreturn\u001b[0m \u001b[0mself\u001b[0m\u001b[0;34m.\u001b[0m\u001b[0m_wrap_aggregated_output\u001b[0m\u001b[0;34m(\u001b[0m\u001b[0moutput\u001b[0m\u001b[0;34m,\u001b[0m \u001b[0mindex\u001b[0m\u001b[0;34m=\u001b[0m\u001b[0mself\u001b[0m\u001b[0;34m.\u001b[0m\u001b[0mgrouper\u001b[0m\u001b[0;34m.\u001b[0m\u001b[0mresult_index\u001b[0m\u001b[0;34m)\u001b[0m\u001b[0;34m\u001b[0m\u001b[0;34m\u001b[0m\u001b[0m\n",
      "\u001b[0;31mDataError\u001b[0m: No numeric types to aggregate"
     ]
    }
   ],
   "source": [
    "blotters.groupby('BuyerType').Price.agg(['max', 'min', 'count', 'median', 'mean'])"
   ]
  },
  {
   "cell_type": "code",
   "execution_count": 45,
   "id": "61e5537f",
   "metadata": {},
   "outputs": [
    {
     "name": "stdout",
     "output_type": "stream",
     "text": [
      "                     Time  Price Party1 Party2 BuyerType SellerType\n",
      "468    1135.2250000006493    260    B09    S09       ZIP        ZIP\n",
      "250    1188.1333333346563    246    B05    S05       ZIP        ZIP\n",
      "97     1240.8416666686608    248    B02    S03       ZIP        ZIP\n",
      "469    1257.6250000022078    273    B09    S39       ZIP       GVWY\n",
      "349     1257.950000002212    272    B07    S03       ZIP        ZIP\n",
      "..                    ...    ...    ...    ...       ...        ...\n",
      "95      3573.049999990079    521    B01    S22       ZIP       SHVR\n",
      "311    3578.3666666566683    504    B05    S35       ZIP       GVWY\n",
      "466    3581.9999999899487    465    B08    S26       ZIP       SHVR\n",
      "153     3591.049999989817    502    B02    S33       ZIP       GVWY\n",
      "312    3591.4166666564784    446    B05    S24       ZIP       SHVR\n",
      "\n",
      "[538 rows x 6 columns]\n",
      "                      Time  Price Party1 Party2 BuyerType SellerType\n",
      "3393     0.974999999999999    222    B35    S09      GVWY        ZIP\n",
      "9042    1.5916666666666635    259    B56    S07      PRSH        ZIP\n",
      "3487    1002.3083333325861    225    B35    S08      GVWY        ZIP\n",
      "4319    1002.8333333325857    215    B39    S01      GVWY        ZIP\n",
      "2472    1005.1583333325835    236    S09    B29      SHVR        ZIP\n",
      "...                    ...    ...    ...    ...       ...        ...\n",
      "8824     995.1749999992593    282    B55    S09      PRSH        ZIP\n",
      "9126     997.2833333325907    284    S02    B56      PRSH        ZIP\n",
      "6457     997.3333333325907    250    B47    S00      PRZI        ZIP\n",
      "2471     998.1166666659233    268    B29    S01      SHVR        ZIP\n",
      "5147     998.9166666659225    250    B42    S04      PRZI        ZIP\n",
      "\n",
      "[2560 rows x 6 columns]\n"
     ]
    }
   ],
   "source": [
    "ZIP_buyers = groupby_buyers.get_group('ZIP')\n",
    "ZIP_sellers = groupby_sellers.get_group('ZIP')\n",
    "print(ZIP_buyers)\n",
    "print(ZIP_sellers)"
   ]
  },
  {
   "cell_type": "code",
   "execution_count": 49,
   "id": "95aa7484",
   "metadata": {},
   "outputs": [
    {
     "data": {
      "text/plain": [
       "[<matplotlib.lines.Line2D at 0x7f8310c6bf10>]"
      ]
     },
     "execution_count": 49,
     "metadata": {},
     "output_type": "execute_result"
    },
    {
     "data": {
      "image/png": "[encoded data removed]",
      "text/plain": [
       "<Figure size 432x288 with 1 Axes>"
      ]
     },
     "metadata": {
      "needs_background": "light"
     },
     "output_type": "display_data"
    }
   ],
   "source": [
    "x=ZIP_buyers.Price\n",
    "y=ZIP_buyers.Time\n",
    "\n",
    "plt.plot(x,y)"
   ]
  },
  {
   "cell_type": "code",
   "execution_count": 39,
   "id": "637afbc5",
   "metadata": {},
   "outputs": [
    {
     "ename": "AttributeError",
     "evalue": "'DataFrame' object has no attribute 'get_group'",
     "output_type": "error",
     "traceback": [
      "\u001b[0;31m---------------------------------------------------------------------------\u001b[0m",
      "\u001b[0;31mAttributeError\u001b[0m                            Traceback (most recent call last)",
      "\u001b[0;32m<ipython-input-39-c54fe7e532f1>\u001b[0m in \u001b[0;36m<module>\u001b[0;34m\u001b[0m\n\u001b[0;32m----> 1\u001b[0;31m \u001b[0mZIP\u001b[0m \u001b[0;34m=\u001b[0m \u001b[0mblotters\u001b[0m\u001b[0;34m.\u001b[0m\u001b[0mget_group\u001b[0m\u001b[0;34m(\u001b[0m\u001b[0;34m'ZIP'\u001b[0m\u001b[0;34m)\u001b[0m\u001b[0;34m\u001b[0m\u001b[0;34m\u001b[0m\u001b[0m\n\u001b[0m\u001b[1;32m      2\u001b[0m \u001b[0mZIP\u001b[0m\u001b[0;34m.\u001b[0m\u001b[0mhead\u001b[0m\u001b[0;34m(\u001b[0m\u001b[0;34m)\u001b[0m\u001b[0;34m\u001b[0m\u001b[0;34m\u001b[0m\u001b[0m\n\u001b[1;32m      3\u001b[0m \u001b[0;34m\u001b[0m\u001b[0m\n\u001b[1;32m      4\u001b[0m \u001b[0;31m#g = blotters.groupby('BuyerType')\u001b[0m\u001b[0;34m\u001b[0m\u001b[0;34m\u001b[0m\u001b[0;34m\u001b[0m\u001b[0m\n\u001b[1;32m      5\u001b[0m \u001b[0;31m#g.groups.keys()\u001b[0m\u001b[0;34m\u001b[0m\u001b[0;34m\u001b[0m\u001b[0;34m\u001b[0m\u001b[0m\n",
      "\u001b[0;32m~/opt/anaconda3/lib/python3.8/site-packages/pandas/core/generic.py\u001b[0m in \u001b[0;36m__getattr__\u001b[0;34m(self, name)\u001b[0m\n\u001b[1;32m   5463\u001b[0m             \u001b[0;32mif\u001b[0m \u001b[0mself\u001b[0m\u001b[0;34m.\u001b[0m\u001b[0m_info_axis\u001b[0m\u001b[0;34m.\u001b[0m\u001b[0m_can_hold_identifiers_and_holds_name\u001b[0m\u001b[0;34m(\u001b[0m\u001b[0mname\u001b[0m\u001b[0;34m)\u001b[0m\u001b[0;34m:\u001b[0m\u001b[0;34m\u001b[0m\u001b[0;34m\u001b[0m\u001b[0m\n\u001b[1;32m   5464\u001b[0m                 \u001b[0;32mreturn\u001b[0m \u001b[0mself\u001b[0m\u001b[0;34m[\u001b[0m\u001b[0mname\u001b[0m\u001b[0;34m]\u001b[0m\u001b[0;34m\u001b[0m\u001b[0;34m\u001b[0m\u001b[0m\n\u001b[0;32m-> 5465\u001b[0;31m             \u001b[0;32mreturn\u001b[0m \u001b[0mobject\u001b[0m\u001b[0;34m.\u001b[0m\u001b[0m__getattribute__\u001b[0m\u001b[0;34m(\u001b[0m\u001b[0mself\u001b[0m\u001b[0;34m,\u001b[0m \u001b[0mname\u001b[0m\u001b[0;34m)\u001b[0m\u001b[0;34m\u001b[0m\u001b[0;34m\u001b[0m\u001b[0m\n\u001b[0m\u001b[1;32m   5466\u001b[0m \u001b[0;34m\u001b[0m\u001b[0m\n\u001b[1;32m   5467\u001b[0m     \u001b[0;32mdef\u001b[0m \u001b[0m__setattr__\u001b[0m\u001b[0;34m(\u001b[0m\u001b[0mself\u001b[0m\u001b[0;34m,\u001b[0m \u001b[0mname\u001b[0m\u001b[0;34m:\u001b[0m \u001b[0mstr\u001b[0m\u001b[0;34m,\u001b[0m \u001b[0mvalue\u001b[0m\u001b[0;34m)\u001b[0m \u001b[0;34m->\u001b[0m \u001b[0;32mNone\u001b[0m\u001b[0;34m:\u001b[0m\u001b[0;34m\u001b[0m\u001b[0;34m\u001b[0m\u001b[0m\n",
      "\u001b[0;31mAttributeError\u001b[0m: 'DataFrame' object has no attribute 'get_group'"
     ]
    }
   ],
   "source": [
    "ZIP = blotters.get_group('ZIP')\n",
    "ZIP.head()\n",
    "\n",
    "#g = blotters.groupby('BuyerType')\n",
    "#g.groups.keys()"
   ]
  },
  {
   "cell_type": "code",
   "execution_count": 37,
   "id": "25ea28f5",
   "metadata": {},
   "outputs": [
    {
     "data": {
      "text/plain": [
       "<AxesSubplot:xlabel='BuyerType'>"
      ]
     },
     "execution_count": 37,
     "metadata": {},
     "output_type": "execute_result"
    },
    {
     "data": {
      "image/png": "[encoded data removed]",
      "text/plain": [
       "<Figure size 432x288 with 1 Axes>"
      ]
     },
     "metadata": {
      "needs_background": "light"
     },
     "output_type": "display_data"
    }
   ],
   "source": [
    "blotters.groupby('BuyerType').size().plot(kind='bar')"
   ]
  },
  {
   "cell_type": "code",
   "execution_count": 34,
   "id": "dcbc01a5",
   "metadata": {},
   "outputs": [
    {
     "data": {
      "text/plain": [
       "<AxesSubplot:xlabel='SellerType'>"
      ]
     },
     "execution_count": 34,
     "metadata": {},
     "output_type": "execute_result"
    },
    {
     "data": {
      "image/png": "[encoded data removed]",
      "text/plain": [
       "<Figure size 432x288 with 1 Axes>"
      ]
     },
     "metadata": {
      "needs_background": "light"
     },
     "output_type": "display_data"
    }
   ],
   "source": [
    "blotters.groupby('SellerType').size().plot(kind='bar')"
   ]
  },
  {
   "cell_type": "code",
   "execution_count": null,
   "id": "8d04ffac",
   "metadata": {},
   "outputs": [],
   "source": [
    "ZIP_transactions = "
   ]
  },
  {
   "cell_type": "code",
   "execution_count": 27,
   "id": "4ec3dc8e",
   "metadata": {},
   "outputs": [
    {
     "data": {
      "text/html": [
       "<div>\n",
       "<style scoped>\n",
       "    .dataframe tbody tr th:only-of-type {\n",
       "        vertical-align: middle;\n",
       "    }\n",
       "\n",
       "    .dataframe tbody tr th {\n",
       "        vertical-align: top;\n",
       "    }\n",
       "\n",
       "    .dataframe thead th {\n",
       "        text-align: right;\n",
       "    }\n",
       "</style>\n",
       "<table border=\"1\" class=\"dataframe\">\n",
       "  <thead>\n",
       "    <tr style=\"text-align: right;\">\n",
       "      <th></th>\n",
       "      <th>Time</th>\n",
       "      <th>Price</th>\n",
       "      <th>Party1</th>\n",
       "      <th>Party2</th>\n",
       "      <th>BuyerType</th>\n",
       "      <th>SellerType</th>\n",
       "    </tr>\n",
       "  </thead>\n",
       "  <tbody>\n",
       "    <tr>\n",
       "      <th>count</th>\n",
       "      <td>10116</td>\n",
       "      <td>10116</td>\n",
       "      <td>10116</td>\n",
       "      <td>10116</td>\n",
       "      <td>10116</td>\n",
       "      <td>10116</td>\n",
       "    </tr>\n",
       "    <tr>\n",
       "      <th>unique</th>\n",
       "      <td>10116</td>\n",
       "      <td>408</td>\n",
       "      <td>120</td>\n",
       "      <td>115</td>\n",
       "      <td>6</td>\n",
       "      <td>6</td>\n",
       "    </tr>\n",
       "    <tr>\n",
       "      <th>top</th>\n",
       "      <td>2214.16666667652</td>\n",
       "      <td>260</td>\n",
       "      <td>B59</td>\n",
       "      <td>S01</td>\n",
       "      <td>PRSH</td>\n",
       "      <td>ZIP</td>\n",
       "    </tr>\n",
       "    <tr>\n",
       "      <th>freq</th>\n",
       "      <td>1</td>\n",
       "      <td>58</td>\n",
       "      <td>317</td>\n",
       "      <td>311</td>\n",
       "      <td>2981</td>\n",
       "      <td>2560</td>\n",
       "    </tr>\n",
       "  </tbody>\n",
       "</table>\n",
       "</div>"
      ],
      "text/plain": [
       "                      Time  Price Party1 Party2 BuyerType SellerType\n",
       "count                10116  10116  10116  10116     10116      10116\n",
       "unique               10116    408    120    115         6          6\n",
       "top       2214.16666667652    260    B59    S01      PRSH        ZIP\n",
       "freq                     1     58    317    311      2981       2560"
      ]
     },
     "execution_count": 27,
     "metadata": {},
     "output_type": "execute_result"
    }
   ],
   "source": [
    "blotters.describe()"
   ]
  },
  {
   "cell_type": "code",
   "execution_count": 28,
   "id": "080d6234",
   "metadata": {},
   "outputs": [
    {
     "data": {
      "text/plain": [
       "3393     ZIP\n",
       "9042     ZIP\n",
       "9849     ZIC\n",
       "5859    GVWY\n",
       "6664    SHVR\n",
       "        ... \n",
       "9370     ZIC\n",
       "6757    GVWY\n",
       "5147     ZIP\n",
       "5412    GVWY\n",
       "3980    GVWY\n",
       "Name: SellerType, Length: 10116, dtype: category\n",
       "Categories (6, object): ['GVWY', 'PRSH', 'PRZI', 'SHVR', 'ZIC', 'ZIP']"
      ]
     },
     "execution_count": 28,
     "metadata": {},
     "output_type": "execute_result"
    }
   ],
   "source": [
    "blotters.SellerType"
   ]
  },
  {
   "cell_type": "code",
   "execution_count": 32,
   "id": "0c49803d",
   "metadata": {},
   "outputs": [
    {
     "name": "stdout",
     "output_type": "stream",
     "text": [
      "['  0.974999999999999' '  1.5916666666666635' '  10.016666666666739' ...\n",
      " '  998.9166666659225' '  999.491666665922' '  999.8333333325884']\n",
      "['  222' '  259' '  208' ... '  250' '  250' '  242']\n"
     ]
    }
   ],
   "source": [
    "#x1 = blotters.iloc[:, BuyerType='ZIP'].values\n",
    "y1 = blotters.iloc[:,1].values\n",
    "print(x1)\n",
    "print(y1)"
   ]
  },
  {
   "cell_type": "code",
   "execution_count": 30,
   "id": "4200222f",
   "metadata": {},
   "outputs": [
    {
     "data": {
      "image/png": "[encoded data removed]",
      "text/plain": [
       "<Figure size 432x288 with 1 Axes>"
      ]
     },
     "metadata": {
      "needs_background": "light"
     },
     "output_type": "display_data"
    }
   ],
   "source": [
    "plt.figure()\n",
    "plt.plot(x1,y1)\n",
    "plt.ylabel('Price')\n",
    "plt.show()"
   ]
  }
 ],
 "metadata": {
  "kernelspec": {
   "display_name": "Python 3",
   "language": "python",
   "name": "python3"
  },
  "language_info": {
   "codemirror_mode": {
    "name": "ipython",
    "version": 3
   },
   "file_extension": ".py",
   "mimetype": "text/x-python",
   "name": "python",
   "nbconvert_exporter": "python",
   "pygments_lexer": "ipython3",
   "version": "3.8.8"
  }
 },
 "nbformat": 4,
 "nbformat_minor": 5
}
