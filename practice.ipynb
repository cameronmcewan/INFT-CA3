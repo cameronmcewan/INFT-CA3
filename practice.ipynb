{
 "cells": [
  {
   "cell_type": "markdown",
   "metadata": {
    "pycharm": {
     "name": "#%% md\n"
    },
    "tags": []
   },
   "source": [
    "# <center> BSE Test </center>\n",
    "<center> CM </center>"
   ]
  },
  {
   "cell_type": "markdown",
   "metadata": {
    "tags": []
   },
   "source": [
    "# Initial Setup "
   ]
  },
  {
   "cell_type": "code",
   "execution_count": 2,
   "metadata": {},
   "outputs": [],
   "source": [
    "# Initial Setup:\n",
    "\n",
    "import matplotlib.pyplot as plt\n",
    "import numpy as np\n",
    "import csv\n",
    "import math\n",
    "import random\n",
    "\n",
    "from BSE import market_session\n",
    "\n",
    "# The next are helper functions that you will use later, if they don't make \n",
    "# much sense now, don't worry too much about it they will become clearer later:\n",
    "\n",
    "# Use this to plot trades of a single experiment\n",
    "def plot_trades(trial_id):\n",
    "    prices_fname = trial_id + '_transactions.csv'\n",
    "    x = np.empty(0)\n",
    "    y = np.empty(0)\n",
    "    with open(prices_fname, newline='') as csvfile:\n",
    "        reader = csv.reader(csvfile)\n",
    "        for row in reader:\n",
    "            time = float(row[1])\n",
    "            price = float(row[2])\n",
    "            x = np.append(x,time)\n",
    "            y = np.append(y,price)\n",
    "\n",
    "    plt.plot(x, y, 'x', color='black') \n",
    "    \n",
    "# Use this to run an experiment n times and plot all trades\n",
    "def n_runs_plot(n, trial_id, start_time, end_time, traders_spec, order_sched):\n",
    "    x = np.empty(0)\n",
    "    y = np.empty(0)\n",
    "\n",
    "    for i in range(n):\n",
    "        trialId = trial_id + '_' + str(i)\n",
    "        tdump = open(trialId + '_avg_balance.csv','w')\n",
    "\n",
    "        market_session(trialId, start_time, end_time, traders_spec, order_sched, tdump, True, False)\n",
    "        \n",
    "        tdump.close()\n",
    "\n",
    "        with open(trialId + '_transactions.csv', newline='') as csvfile:\n",
    "            reader = csv.reader(csvfile)\n",
    "            for row in reader:\n",
    "                time = float(row[1])\n",
    "                price = float(row[2])\n",
    "                x = np.append(x,time)\n",
    "                y = np.append(y,price)\n",
    "\n",
    "    plt.plot(x, y, 'x', color='black');\n",
    "\n",
    "# !!! Don't use on it's own   \n",
    "def getorderprice(i, sched, n, mode):\n",
    "    pmin = min(sched[0][0], sched[0][1])\n",
    "    pmax = max(sched[0][0], sched[0][1])\n",
    "    prange = pmax - pmin\n",
    "    stepsize = prange / (n - 1)\n",
    "    halfstep = round(stepsize / 2.0)\n",
    "\n",
    "    if mode == 'fixed':\n",
    "        orderprice = pmin + int(i * stepsize)\n",
    "    elif mode == 'jittered':\n",
    "        orderprice = pmin + int(i * stepsize) + random.randint(-halfstep, halfstep)\n",
    "    elif mode == 'random':\n",
    "        if len(sched) > 1:\n",
    "            # more than one schedule: choose one equiprobably\n",
    "            s = random.randint(0, len(sched) - 1)\n",
    "            pmin = min(sched[s][0], sched[s][1])\n",
    "            pmax = max(sched[s][0], sched[s][1])\n",
    "        orderprice = random.randint(pmin, pmax)\n",
    "    return orderprice    \n",
    "\n",
    "# !!! Don't use on it's own\n",
    "def make_supply_demand_plot(bids, asks):\n",
    "    # total volume up to current order\n",
    "    volS = 0\n",
    "    volB = 0\n",
    "\n",
    "    fig, ax = plt.subplots()\n",
    "    plt.ylabel('Price')\n",
    "    plt.xlabel('Quantity')\n",
    "    \n",
    "    pr = 0\n",
    "    for b in bids:\n",
    "        if pr != 0:\n",
    "            # vertical line\n",
    "            ax.plot([volB,volB], [pr,b], 'r-')\n",
    "        # horizontal lines\n",
    "        line, = ax.plot([volB,volB+1], [b,b], 'r-')\n",
    "        volB += 1\n",
    "        pr = b\n",
    "    if bids:\n",
    "        line.set_label('Demand')\n",
    "        \n",
    "    pr = 0\n",
    "    for s in asks:\n",
    "        if pr != 0:\n",
    "            # vertical line\n",
    "            ax.plot([volS,volS], [pr,s], 'b-')\n",
    "        # horizontal lines\n",
    "        line, = ax.plot([volS,volS+1], [s,s], 'b-')\n",
    "        volS += 1\n",
    "        pr = s\n",
    "    if asks:\n",
    "        line.set_label('Supply')\n",
    "        \n",
    "    if bids or asks:\n",
    "        plt.legend()\n",
    "    plt.show()\n",
    "\n",
    "# Use this to plot supply and demand curves from supply and demand ranges and stepmode\n",
    "def sup_dem(seller_num, sup_ranges, buyer_num, dem_ranges, stepmode):\n",
    "    asks = []\n",
    "    for s in range(seller_num):\n",
    "        asks.append(getorderprice(s, sup_ranges, seller_num, stepmode))\n",
    "    asks.sort()\n",
    "    bids = []\n",
    "    for b in range(buyer_num):\n",
    "        bids.append(getorderprice(b, dem_ranges, buyer_num, stepmode))\n",
    "    bids.sort()\n",
    "    bids.reverse()\n",
    "    \n",
    "    make_supply_demand_plot(bids, asks) \n",
    "\n",
    "# plot sorted trades, useful is some situations - won't be used in this worksheet\n",
    "def in_order_plot(trial_id):\n",
    "    prices_fname = trial_id + '_transactions.csv'\n",
    "    y = np.empty(0)\n",
    "    with open(prices_fname, newline='') as csvfile:\n",
    "        reader = csv.reader(csvfile)\n",
    "        for row in reader:\n",
    "            price = float(row[2])\n",
    "            y = np.append(y,price)\n",
    "    y = np.sort(y)\n",
    "    x = list(range(len(y)))\n",
    "\n",
    "    plt.plot(x, y, 'x', color='black')   "
   ]
  },
  {
   "cell_type": "markdown",
   "metadata": {
    "tags": []
   },
   "source": [
    "# Static Markets"
   ]
  },
  {
   "cell_type": "markdown",
   "metadata": {},
   "source": [
    "Currently in BSE 7 trader types are defined, namely \"ZIP\", \"ZIC\", \"SHVR\", \"GVWY\", \"SNPR\", \"PRZI\" and \"PRSH\""
   ]
  },
  {
   "cell_type": "code",
   "execution_count": 3,
   "metadata": {},
   "outputs": [
    {
     "data": {
      "text/plain": [
       "{'sellers': [('GVWY', 10), ('SHVR', 10), ('ZIC', 10), ('ZIP', 10)],\n",
       " 'buyers': [('GVWY', 10), ('SHVR', 10), ('ZIC', 10), ('ZIP', 10)]}"
      ]
     },
     "execution_count": 3,
     "metadata": {},
     "output_type": "execute_result"
    }
   ],
   "source": [
    "buyers_spec = [('GVWY',10),('SHVR',10),('ZIC',10),('ZIP',10)]\n",
    "sellers_spec = buyers_spec\n",
    "traders_spec = {'sellers':sellers_spec, 'buyers':buyers_spec}\n",
    "traders_spec"
   ]
  },
  {
   "cell_type": "markdown",
   "metadata": {
    "tags": []
   },
   "source": [
    "### Supply and Demand Curves"
   ]
  },
  {
   "cell_type": "markdown",
   "metadata": {
    "tags": []
   },
   "source": [
    "#### Supply and Demand Ranges and Schedules "
   ]
  },
  {
   "cell_type": "code",
   "execution_count": 5,
   "metadata": {},
   "outputs": [],
   "source": [
    "sup_range = (50,150)\n",
    "dem_range = (50,150)\n",
    "\n",
    "start_time = 0\n",
    "end_time = 600\n",
    "supply_schedule = [{\"from\": start_time,\"to\": end_time,\"ranges\": [sup_range],\"stepmode\": \"fixed\"}]\n",
    "demand_schedule = [{\"from\": start_time,\"to\": end_time,\"ranges\": [dem_range],\"stepmode\": \"fixed\"}]"
   ]
  },
  {
   "cell_type": "markdown",
   "metadata": {},
   "source": [
    "You can use the provided \"sup_dem\" function to print the supply and demand curves of experiments."
   ]
  },
  {
   "cell_type": "code",
   "execution_count": 6,
   "metadata": {},
   "outputs": [
    {
     "data": {
      "image/png": "[encoded data removed]",
      "text/plain": [
       "<Figure size 432x288 with 1 Axes>"
      ]
     },
     "metadata": {
      "needs_background": "light"
     },
     "output_type": "display_data"
    }
   ],
   "source": [
    "sup_dem(10, [sup_range], 10, [dem_range], 'fixed')"
   ]
  },
  {
   "cell_type": "markdown",
   "metadata": {
    "tags": []
   },
   "source": [
    "### Order Schedule "
   ]
  },
  {
   "cell_type": "code",
   "execution_count": 7,
   "metadata": {},
   "outputs": [],
   "source": [
    "order_interval = 60\n",
    "timemode = \"periodic\"\n",
    "order_sched = {\"sup\": supply_schedule,\"dem\": demand_schedule, \"interval\": order_interval, \"timemode\": timemode}"
   ]
  },
  {
   "cell_type": "markdown",
   "metadata": {
    "tags": []
   },
   "source": [
    "### Market Session"
   ]
  },
  {
   "cell_type": "code",
   "execution_count": 8,
   "metadata": {},
   "outputs": [],
   "source": [
    "trial_id = 'test_1'\n",
    "tdump = open('test_1_avg_balance.csv','w')\n",
    "dump_all = True\n",
    "verbose = False\n",
    "\n",
    "market_session(trial_id, start_time, end_time, traders_spec, order_sched, tdump, dump_all, verbose)\n",
    "\n",
    "tdump.close()"
   ]
  },
  {
   "cell_type": "code",
   "execution_count": 10,
   "metadata": {},
   "outputs": [
    {
     "data": {
      "image/png": "[encoded data removed]",
      "text/plain": [
       "<Figure size 432x288 with 1 Axes>"
      ]
     },
     "metadata": {
      "needs_background": "light"
     },
     "output_type": "display_data"
    }
   ],
   "source": [
    "plot_trades('test_1')"
   ]
  },
  {
   "cell_type": "markdown",
   "metadata": {
    "tags": []
   },
   "source": [
    "### Static Market Sessions"
   ]
  },
  {
   "cell_type": "code",
   "execution_count": 1,
   "metadata": {},
   "outputs": [
    {
     "ename": "NameError",
     "evalue": "name 'sup_dem' is not defined",
     "output_type": "error",
     "traceback": [
      "\u001b[0;31m---------------------------------------------------------------------------\u001b[0m",
      "\u001b[0;31mNameError\u001b[0m                                 Traceback (most recent call last)",
      "\u001b[0;32m<ipython-input-1-2faf71ee4aed>\u001b[0m in \u001b[0;36m<module>\u001b[0;34m\u001b[0m\n\u001b[1;32m     17\u001b[0m \u001b[0mdemand_schedule\u001b[0m \u001b[0;34m=\u001b[0m \u001b[0;34m[\u001b[0m\u001b[0;34m{\u001b[0m\u001b[0;34m\"from\"\u001b[0m\u001b[0;34m:\u001b[0m \u001b[0mstart_time\u001b[0m\u001b[0;34m,\u001b[0m\u001b[0;34m\"to\"\u001b[0m\u001b[0;34m:\u001b[0m \u001b[0mend_time\u001b[0m\u001b[0;34m,\u001b[0m\u001b[0;34m\"ranges\"\u001b[0m\u001b[0;34m:\u001b[0m \u001b[0;34m[\u001b[0m\u001b[0mdem_range\u001b[0m\u001b[0;34m]\u001b[0m\u001b[0;34m,\u001b[0m\u001b[0;34m\"stepmode\"\u001b[0m\u001b[0;34m:\u001b[0m \u001b[0;34m\"fixed\"\u001b[0m\u001b[0;34m}\u001b[0m\u001b[0;34m]\u001b[0m\u001b[0;34m\u001b[0m\u001b[0;34m\u001b[0m\u001b[0m\n\u001b[1;32m     18\u001b[0m \u001b[0;34m\u001b[0m\u001b[0m\n\u001b[0;32m---> 19\u001b[0;31m \u001b[0msup_dem\u001b[0m\u001b[0;34m(\u001b[0m\u001b[0;36m10\u001b[0m\u001b[0;34m,\u001b[0m \u001b[0;34m[\u001b[0m\u001b[0msup_range\u001b[0m\u001b[0;34m]\u001b[0m\u001b[0;34m,\u001b[0m \u001b[0;36m10\u001b[0m\u001b[0;34m,\u001b[0m \u001b[0;34m[\u001b[0m\u001b[0mdem_range\u001b[0m\u001b[0;34m]\u001b[0m\u001b[0;34m,\u001b[0m \u001b[0;34m'fixed'\u001b[0m\u001b[0;34m)\u001b[0m\u001b[0;34m\u001b[0m\u001b[0;34m\u001b[0m\u001b[0m\n\u001b[0m\u001b[1;32m     20\u001b[0m \u001b[0;34m\u001b[0m\u001b[0m\n\u001b[1;32m     21\u001b[0m \u001b[0;31m# Order schedule\u001b[0m\u001b[0;34m\u001b[0m\u001b[0;34m\u001b[0m\u001b[0;34m\u001b[0m\u001b[0m\n",
      "\u001b[0;31mNameError\u001b[0m: name 'sup_dem' is not defined"
     ]
    }
   ],
   "source": [
    "# Traders specs\n",
    "\n",
    "buyers_spec = [('ZIP',10)]\n",
    "buyers_spec = [('GVWY',10),('SHVR',10),('ZIC',10),('ZIP',10)]\n",
    "sellers_spec = buyers_spec\n",
    "traders_spec = {'sellers':sellers_spec, 'buyers':buyers_spec}\n",
    "\n",
    "\n",
    "# Supply and demand \n",
    "\n",
    "sup_range = (50,150)\n",
    "dem_range = (50,150)\n",
    "\n",
    "start_time = 0\n",
    "end_time = 180\n",
    "supply_schedule = [{\"from\": start_time,\"to\": end_time,\"ranges\": [sup_range],\"stepmode\": \"fixed\"}]\n",
    "demand_schedule = [{\"from\": start_time,\"to\": end_time,\"ranges\": [dem_range],\"stepmode\": \"fixed\"}]\n",
    "\n",
    "sup_dem(10, [sup_range], 10, [dem_range], 'fixed')\n",
    "\n",
    "# Order schedule \n",
    "\n",
    "order_schedule = {\"sup\": supply_schedule,\"dem\": demand_schedule, \"interval\": 10, \"timemode\": \"periodic\"}"
   ]
  },
  {
   "cell_type": "code",
   "execution_count": null,
   "metadata": {},
   "outputs": [],
   "source": []
  },
  {
   "cell_type": "markdown",
   "metadata": {},
   "source": [
    "You can also use the provided \"n_runs_plot\" function to run the same experiment multiple times and plot its graph. Plot the graph of 10 runs of the previous experiment:"
   ]
  },
  {
   "cell_type": "code",
   "execution_count": 11,
   "metadata": {},
   "outputs": [
    {
     "data": {
      "image/png": "[encoded data removed]",
      "text/plain": [
       "<Figure size 432x288 with 1 Axes>"
      ]
     },
     "metadata": {
      "needs_background": "light"
     },
     "output_type": "display_data"
    }
   ],
   "source": [
    "n_runs_plot(10, trial_id, start_time, end_time, traders_spec, order_sched)"
   ]
  },
  {
   "cell_type": "markdown",
   "metadata": {},
   "source": [
    "2) A market that runs for 5 minutes and is populated with 3 buyers of every type except ZIC and 3 sellers of every type except SNPR. The supply curve should have a minimum value at 100 and a maximum value at 200 and demand curve should have a minimum value at 50, maximum value at 150. There shouldn't be any pattern in the step size. Traders should be resupplied with new orders continuously at fixed intervals with some noise and a re-supply cycle of 30 seconds. Plot the supply and demand curves along with your results."
   ]
  },
  {
   "cell_type": "code",
   "execution_count": null,
   "metadata": {},
   "outputs": [],
   "source": []
  },
  {
   "cell_type": "markdown",
   "metadata": {
    "tags": []
   },
   "source": [
    "### Advanced Static Markets "
   ]
  },
  {
   "cell_type": "markdown",
   "metadata": {},
   "source": [
    "The previous section cover everything you need to set up most static markets. In this section, we will see a method that creates a static market that is a little more complex. \n",
    "\n",
    "If you remember when we defined [supply and demand schedules](#Supply-and-Demand-Schedules), we said that the schedule dictionary has key \"ranges\" which is a list of tuples but we only looked at the case where we provided only one range tuple.\n",
    "\n",
    "If the stepmode is set to random, we can actually provide multiple ranges (in all other stepmodes, BSE will ignore all ranges except from the first). What this does, is that instead of having just one supply or demand range, we have multiple and one is chosen at random every time an order is issued to a trader.\n",
    "\n",
    "Try this feature out by using the previous market configuration but with supply and demand ranges 1-50, 100-200 and 300-350. Plot the supply and demand curves along with your results:"
   ]
  },
  {
   "cell_type": "code",
   "execution_count": null,
   "metadata": {},
   "outputs": [],
   "source": []
  },
  {
   "cell_type": "markdown",
   "metadata": {
    "tags": []
   },
   "source": [
    "## Dynamic Markets"
   ]
  },
  {
   "cell_type": "markdown",
   "metadata": {},
   "source": [
    "So far, we've looked at experiments that use the same supply and demand curves for the entire duration of the experiment (what we called static markets). In this section, we will see markets with variable supply and demand curves. BSE gives us 2 ways to dynamically change the supply and demand curves during an experiment."
   ]
  },
  {
   "cell_type": "markdown",
   "metadata": {
    "tags": []
   },
   "source": [
    "### Market \"Shocks\""
   ]
  },
  {
   "cell_type": "markdown",
   "metadata": {},
   "source": [
    "The first way we will look at is something called a market \"shock\". What this means is that at specified points in the experiment we suddenly switch to different supply and/or demand schedules.\n",
    "\n",
    "As we saw when we defined [supply and demand schedules](#Supply-and-Demand-Schedules), each schedule is a list of dictionaries. In static markets, we used one dictionary to define a schedule for the entire duration of the market session. In order to introduce one \"shock\" to the market, we provide two dictionaries with different configurations. Care must be taken to make sure that the combination of the intervals of the two (or more) schedules covers the entire duration of the market session. For example if we have a market that runs for 100 seconds, we could have the first schedule start at 0 ('from' = 0) and finish at 70 seconds ('to' = 70) and then have the second schedule start at 70 ('from' = 70) and finish at 100 ('to' = 100)."
   ]
  },
  {
   "cell_type": "markdown",
   "metadata": {},
   "source": [
    "Let's try this using a market that runs for 10 minutes and is populated with 10 ZIP buyers and 10 ZIP sellers. The supply and demand curves should have steps with regular intervals, and initially minimum value at 50, and maximum value at 100. Then in the middle of the experiment, we introduce a \"shock\" where the minimum value of the supply and demand curves changes to 150 and maximum to 200. All traders should be resupplied with a new order at the same time every 15 seconds. Plotting the results should make the \"shock\" obvious."
   ]
  },
  {
   "cell_type": "code",
   "execution_count": null,
   "metadata": {},
   "outputs": [],
   "source": []
  },
  {
   "cell_type": "markdown",
   "metadata": {},
   "source": [
    "Of course, we are not confined to having just one \"shock\" in the market. BSE allows us to have as many as we want. Let's try this by having the same experiment as before but this time the supply and demand curves move from (50, 100) to (150, 200) at 3 minutes and then back to (50, 100) at 7 minutes. Again plot all trades to see the effect of the 2 shocks. "
   ]
  },
  {
   "cell_type": "code",
   "execution_count": null,
   "metadata": {},
   "outputs": [],
   "source": []
  },
  {
   "cell_type": "markdown",
   "metadata": {},
   "source": [
    "### Offset Function"
   ]
  },
  {
   "cell_type": "markdown",
   "metadata": {},
   "source": [
    "The second way we can dynamically alter markets in BSE is by using offset functions. An offset function, is a function that can continuously alter the minimum and maximum values of the supply and demand curves while the experiment is running. How this works, it that the offset function is a function of time that returns a number that is added to the minimum and maximum values defined in the supply and/or demand ranges. With the current version of BSE you can find one offset function already build-in (function \"schedule_offsetfn\" shown below - a sine wave that grows in amplitude, and reduces its wavelength, as time progresses)."
   ]
  },
  {
   "cell_type": "code",
   "execution_count": 12,
   "metadata": {},
   "outputs": [],
   "source": [
    "# schedule_offsetfn returns time-dependent offset, to be added to schedule prices\n",
    "def schedule_offsetfn(t):\n",
    "    pi2 = math.pi * 2\n",
    "    c = math.pi * 3000\n",
    "    wavelength = t / c\n",
    "    gradient = 100 * t / (c / pi2)\n",
    "    amplitude = 100 * t / (c / pi2)\n",
    "    offset = gradient + amplitude * math.sin(wavelength * t)\n",
    "    return int(round(offset, 0))"
   ]
  },
  {
   "cell_type": "markdown",
   "metadata": {},
   "source": [
    "We can also create our own offset function in a similar way by creating a new function that takes as input time and returns a number. For example, \"offset_1\" and \"offset_2\" are two silly non-dynamic offset functions that always return constant offset of 1 or 2:"
   ]
  },
  {
   "cell_type": "code",
   "execution_count": 13,
   "metadata": {},
   "outputs": [],
   "source": [
    "def offset_1(t):\n",
    "    return 1\n",
    "\n",
    "def offset_2(t):\n",
    "    return 2"
   ]
  },
  {
   "cell_type": "markdown",
   "metadata": {},
   "source": [
    "Define your own offset function that returns an offset that is initially equal to zero and increases by 1 every second:"
   ]
  },
  {
   "cell_type": "code",
   "execution_count": 14,
   "metadata": {},
   "outputs": [
    {
     "ename": "SyntaxError",
     "evalue": "unexpected EOF while parsing (<ipython-input-14-8f267578923d>, line 2)",
     "output_type": "error",
     "traceback": [
      "\u001b[0;36m  File \u001b[0;32m\"<ipython-input-14-8f267578923d>\"\u001b[0;36m, line \u001b[0;32m2\u001b[0m\n\u001b[0;31m    \u001b[0m\n\u001b[0m    ^\u001b[0m\n\u001b[0;31mSyntaxError\u001b[0m\u001b[0;31m:\u001b[0m unexpected EOF while parsing\n"
     ]
    }
   ],
   "source": [
    "def offset_t(t):\n",
    "    "
   ]
  },
  {
   "cell_type": "markdown",
   "metadata": {},
   "source": [
    "To apply an offset function, we need to alter the supply and/or demand ranges. In section [supply and demand ranges](#Supply-and-Demand-Ranges) we saw how to create supply and demand ranges but we only use tuples with two numbers - the minimum and the maximum. Along with the two numbers we can provide a third item in the tuple, an offset function which will be used on both the minimum and maximum values in the range. If we want to use a different offset function for the minimum and a different one for the maximum value in a range we can also do that by providing a tuple with four items in it, the minimum value, the maximum value, the offset function that will be applied to the minimum value and the offset function to be applied to the maximum value.\n",
    "\n",
    "For example, the following creates two ranges each with a different offset applied to both the minimum and maximum value: "
   ]
  },
  {
   "cell_type": "code",
   "execution_count": null,
   "metadata": {},
   "outputs": [],
   "source": [
    "range_offset1 = (50, 100, schedule_offsetfn)\n",
    "range_offset2 = (150, 200, offset_t)"
   ]
  },
  {
   "cell_type": "markdown",
   "metadata": {},
   "source": [
    "Similarly, the following creates a range with two offset functions the first one applied to the minimum and the second one to the maximum:"
   ]
  },
  {
   "cell_type": "code",
   "execution_count": null,
   "metadata": {},
   "outputs": [],
   "source": [
    "range_offset_both = (50, 100, offset_1, offset_2)"
   ]
  },
  {
   "cell_type": "markdown",
   "metadata": {},
   "source": [
    "Run a market session using the previous market configuration but this time replace range1 with range_offset1 and range2 with range_offset2. Plot the results:"
   ]
  },
  {
   "cell_type": "code",
   "execution_count": null,
   "metadata": {},
   "outputs": [],
   "source": []
  },
  {
   "cell_type": "markdown",
   "metadata": {
    "tags": []
   },
   "source": [
    "## Market Configuration Summary"
   ]
  },
  {
   "cell_type": "markdown",
   "metadata": {},
   "source": [
    "In the previous sections, we explored all experiment configuration options available in BSE. We first saw static markets and then dynamic. For more information check the __[BSE wiki](https://github.com/davecliff/BristolStockExchange/wiki/4.-Altering-the-market-supply-and-demand)__.  "
   ]
  },
  {
   "cell_type": "markdown",
   "metadata": {
    "tags": []
   },
   "source": [
    "# Code Exploration"
   ]
  },
  {
   "cell_type": "markdown",
   "metadata": {},
   "source": [
    "The current version of BSE has more than 2000 lines of code so it is easy to get lost, so in this section we will see how the most important parts of BSE work."
   ]
  },
  {
   "cell_type": "markdown",
   "metadata": {},
   "source": [
    "Starting with the Exchange class this is the backbone of BSE. It inherits from the Orderbook class (which itself inherits from the Orderbook_half class). We won't go into too much detail on how the exchange works as traders don't actually interact with it directly. The important thing to understand is that the exchange maintains a LOB, is able to process orders, and it keeps a list of transactions (the tape). You don't need to understand much more to work with BSE, but if you want to learn more, the most important method is \"process_order2\" and I suggest that you start from there."
   ]
  },
  {
   "cell_type": "markdown",
   "metadata": {},
   "source": [
    "When we want to run an experiment with BSE, we configure the experiment (as we saw in detail in the previous sections) and then call the \"market_session\" function. This function is responsible for all the functionality of BSE. How it roughly works, is: \n",
    "\n",
    "- It first populates the market with traders (using the \"populate_market\" function) by instantiating them from their respective classes and gives each a unique id.\n",
    "- Then loops around until the end of the experiment. The time of the market is increased by a timestep on every iteration. One timestep is not one (market) second but is equal to a fraction of a second. The exact fraction is determined by the number of traders (e.g. for a market with 5 sellers and 5 buyers, the timestep is 1/10 of a second).\n",
    "- On every iteration:\n",
    "    - A call to the \"customer_orders\" is made. This function does one of two things. It initially creates limit orders for all traders that will be given to them in the future (remember traders are resupplied with orders based on a schedule with an interval). If it already created the orders, on future calls it checks which of those orders should be issued (based on the current time) to the traders and sends them by calling the \"add_order\" method of that trader.\n",
    "    - A trader is selected at random and the trader's \"getorder\" method is called thus allowing that trader to trade. What this means, is that the selected trader can issue a new order (which adjusts its current order if the trade has one) or can do nothing if the trader is happy with its current order (or lack of order). (Note: This trader order is different from the one given to the trader by \"customer_orders\". This one is the order the trader issues to the market while the other is the trader's private value) \n",
    "    - If the selected trader issued a new order:\n",
    "        - That order is processed by the exchange using the \"process_order2\" method. This method either returns a \"transaction_record\" indicating that the order was executed and resulted in a trade or None indicating that the order was not executed (i.e. just added to the LOB). The transaction record contains all information of a trade (time, price, involved parties etc). If the order resulted to a trade, the two traders involved are also notified using their \"bookkeep\" methods.\n",
    "        - After the order is processed, all traders are notified with the new state of the LOB (and the trade if it happened). This allows traders to adjust their strategy given the new state of the LOB.\n",
    "- Finally at the end of the session the function produces the appropriate output files."
   ]
  }
 ],
 "metadata": {
  "kernelspec": {
   "display_name": "Python 3",
   "language": "python",
   "name": "python3"
  },
  "language_info": {
   "codemirror_mode": {
    "name": "ipython",
    "version": 3
   },
   "file_extension": ".py",
   "mimetype": "text/x-python",
   "name": "python",
   "nbconvert_exporter": "python",
   "pygments_lexer": "ipython3",
   "version": "3.8.8"
  }
 },
 "nbformat": 4,
 "nbformat_minor": 4
}
