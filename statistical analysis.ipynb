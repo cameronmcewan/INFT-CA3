{
 "cells": [
  {
   "cell_type": "code",
   "execution_count": 3,
   "id": "a7023c0a",
   "metadata": {},
   "outputs": [],
   "source": [
    "import matplotlib.pyplot as plt\n",
    "import csv\n",
    "import numpy as np\n",
    "import pandas as pd\n",
    "import math\n",
    "from pandas.api.types import CategoricalDtype\n",
    "from scipy import stats\n",
    "from scipy.stats import mannwhitneyu\n",
    "#from pingouin import mwu"
   ]
  },
  {
   "cell_type": "code",
   "execution_count": 4,
   "id": "9b4d65d0",
   "metadata": {},
   "outputs": [],
   "source": [
    "columns = ['Count', 'Mean', 'Std', 'Min','Q1','Q2','Q3','Max']\n",
    "\n",
    "ZIP = pd.read_csv('statistics_ZIP.csv', header=None)\n",
    "ZIP.columns = columns\n",
    "ZIC = pd.read_csv('statistics_ZIC.csv', header=None)\n",
    "ZIC.columns = columns\n",
    "PRSH = pd.read_csv('statistics_PRSH.csv', header=None)\n",
    "PRSH.columns = columns\n",
    "PRZI = pd.read_csv('statistics_PRZI.csv', header=None)\n",
    "PRZI.columns = columns\n",
    "GVWY = pd.read_csv('statistics_GVWY.csv', header=None)\n",
    "GVWY.columns = columns\n",
    "SHVR = pd.read_csv('statistics_SHVR.csv', header=None)\n",
    "SHVR.columns = columns\n",
    "\n",
    "ZIP2 = pd.read_csv('statistics_ZIP2.csv', header=None)\n",
    "ZIP2.columns = columns\n",
    "ZIC2 = pd.read_csv('statistics_ZIC2.csv', header=None)\n",
    "ZIC2.columns = columns\n",
    "PRSH2 = pd.read_csv('statistics_PRSH2.csv', header=None)\n",
    "PRSH2.columns = columns\n",
    "PRZI2 = pd.read_csv('statistics_PRZI2.csv', header=None)\n",
    "PRZI2.columns = columns\n",
    "GVWY2 = pd.read_csv('statistics_GVWY2.csv', header=None)\n",
    "GVWY2.columns = columns\n",
    "SHVR2 = pd.read_csv('statistics_SHVR2.csv', header=None)\n",
    "SHVR2.columns = columns"
   ]
  },
  {
   "cell_type": "code",
   "execution_count": 5,
   "id": "b1fb9dca",
   "metadata": {},
   "outputs": [
    {
     "data": {
      "text/html": [
       "<div>\n",
       "<style scoped>\n",
       "    .dataframe tbody tr th:only-of-type {\n",
       "        vertical-align: middle;\n",
       "    }\n",
       "\n",
       "    .dataframe tbody tr th {\n",
       "        vertical-align: top;\n",
       "    }\n",
       "\n",
       "    .dataframe thead th {\n",
       "        text-align: right;\n",
       "    }\n",
       "</style>\n",
       "<table border=\"1\" class=\"dataframe\">\n",
       "  <thead>\n",
       "    <tr style=\"text-align: right;\">\n",
       "      <th></th>\n",
       "      <th>Count</th>\n",
       "      <th>Mean</th>\n",
       "      <th>Std</th>\n",
       "      <th>Min</th>\n",
       "      <th>Q1</th>\n",
       "      <th>Q2</th>\n",
       "      <th>Q3</th>\n",
       "      <th>Max</th>\n",
       "    </tr>\n",
       "  </thead>\n",
       "  <tbody>\n",
       "    <tr>\n",
       "      <th>0</th>\n",
       "      <td>531.0</td>\n",
       "      <td>26.080979</td>\n",
       "      <td>148.605845</td>\n",
       "      <td>-258.0</td>\n",
       "      <td>-116.50</td>\n",
       "      <td>51.0</td>\n",
       "      <td>149.50</td>\n",
       "      <td>322.0</td>\n",
       "    </tr>\n",
       "    <tr>\n",
       "      <th>1</th>\n",
       "      <td>467.0</td>\n",
       "      <td>21.685225</td>\n",
       "      <td>153.731196</td>\n",
       "      <td>-281.0</td>\n",
       "      <td>-128.00</td>\n",
       "      <td>41.0</td>\n",
       "      <td>143.00</td>\n",
       "      <td>344.0</td>\n",
       "    </tr>\n",
       "    <tr>\n",
       "      <th>2</th>\n",
       "      <td>455.0</td>\n",
       "      <td>15.015385</td>\n",
       "      <td>147.740835</td>\n",
       "      <td>-273.0</td>\n",
       "      <td>-121.00</td>\n",
       "      <td>42.0</td>\n",
       "      <td>133.00</td>\n",
       "      <td>370.0</td>\n",
       "    </tr>\n",
       "    <tr>\n",
       "      <th>3</th>\n",
       "      <td>526.0</td>\n",
       "      <td>47.108365</td>\n",
       "      <td>145.838612</td>\n",
       "      <td>-313.0</td>\n",
       "      <td>-83.50</td>\n",
       "      <td>70.0</td>\n",
       "      <td>159.75</td>\n",
       "      <td>343.0</td>\n",
       "    </tr>\n",
       "    <tr>\n",
       "      <th>4</th>\n",
       "      <td>559.0</td>\n",
       "      <td>10.413238</td>\n",
       "      <td>151.067916</td>\n",
       "      <td>-270.0</td>\n",
       "      <td>-127.50</td>\n",
       "      <td>17.0</td>\n",
       "      <td>134.00</td>\n",
       "      <td>364.0</td>\n",
       "    </tr>\n",
       "    <tr>\n",
       "      <th>...</th>\n",
       "      <td>...</td>\n",
       "      <td>...</td>\n",
       "      <td>...</td>\n",
       "      <td>...</td>\n",
       "      <td>...</td>\n",
       "      <td>...</td>\n",
       "      <td>...</td>\n",
       "      <td>...</td>\n",
       "    </tr>\n",
       "    <tr>\n",
       "      <th>94</th>\n",
       "      <td>491.0</td>\n",
       "      <td>25.331976</td>\n",
       "      <td>146.069643</td>\n",
       "      <td>-291.0</td>\n",
       "      <td>-117.00</td>\n",
       "      <td>47.0</td>\n",
       "      <td>144.00</td>\n",
       "      <td>342.0</td>\n",
       "    </tr>\n",
       "    <tr>\n",
       "      <th>95</th>\n",
       "      <td>554.0</td>\n",
       "      <td>53.068592</td>\n",
       "      <td>150.128946</td>\n",
       "      <td>-327.0</td>\n",
       "      <td>-91.25</td>\n",
       "      <td>82.0</td>\n",
       "      <td>173.00</td>\n",
       "      <td>346.0</td>\n",
       "    </tr>\n",
       "    <tr>\n",
       "      <th>96</th>\n",
       "      <td>640.0</td>\n",
       "      <td>11.204688</td>\n",
       "      <td>156.727419</td>\n",
       "      <td>-299.0</td>\n",
       "      <td>-137.50</td>\n",
       "      <td>31.5</td>\n",
       "      <td>144.50</td>\n",
       "      <td>322.0</td>\n",
       "    </tr>\n",
       "    <tr>\n",
       "      <th>97</th>\n",
       "      <td>524.0</td>\n",
       "      <td>28.898855</td>\n",
       "      <td>150.433241</td>\n",
       "      <td>-259.0</td>\n",
       "      <td>-121.00</td>\n",
       "      <td>51.0</td>\n",
       "      <td>148.00</td>\n",
       "      <td>358.0</td>\n",
       "    </tr>\n",
       "    <tr>\n",
       "      <th>98</th>\n",
       "      <td>523.0</td>\n",
       "      <td>37.038241</td>\n",
       "      <td>152.042362</td>\n",
       "      <td>-284.0</td>\n",
       "      <td>-106.00</td>\n",
       "      <td>66.0</td>\n",
       "      <td>162.00</td>\n",
       "      <td>334.0</td>\n",
       "    </tr>\n",
       "  </tbody>\n",
       "</table>\n",
       "<p>99 rows × 8 columns</p>\n",
       "</div>"
      ],
      "text/plain": [
       "    Count       Mean         Std    Min      Q1    Q2      Q3    Max\n",
       "0   531.0  26.080979  148.605845 -258.0 -116.50  51.0  149.50  322.0\n",
       "1   467.0  21.685225  153.731196 -281.0 -128.00  41.0  143.00  344.0\n",
       "2   455.0  15.015385  147.740835 -273.0 -121.00  42.0  133.00  370.0\n",
       "3   526.0  47.108365  145.838612 -313.0  -83.50  70.0  159.75  343.0\n",
       "4   559.0  10.413238  151.067916 -270.0 -127.50  17.0  134.00  364.0\n",
       "..    ...        ...         ...    ...     ...   ...     ...    ...\n",
       "94  491.0  25.331976  146.069643 -291.0 -117.00  47.0  144.00  342.0\n",
       "95  554.0  53.068592  150.128946 -327.0  -91.25  82.0  173.00  346.0\n",
       "96  640.0  11.204688  156.727419 -299.0 -137.50  31.5  144.50  322.0\n",
       "97  524.0  28.898855  150.433241 -259.0 -121.00  51.0  148.00  358.0\n",
       "98  523.0  37.038241  152.042362 -284.0 -106.00  66.0  162.00  334.0\n",
       "\n",
       "[99 rows x 8 columns]"
      ]
     },
     "execution_count": 5,
     "metadata": {},
     "output_type": "execute_result"
    }
   ],
   "source": [
    "ZIP"
   ]
  },
  {
   "cell_type": "code",
   "execution_count": 6,
   "id": "3c718389",
   "metadata": {},
   "outputs": [
    {
     "ename": "NameError",
     "evalue": "name 'mwu' is not defined",
     "output_type": "error",
     "traceback": [
      "\u001b[0;31m---------------------------------------------------------------------------\u001b[0m",
      "\u001b[0;31mNameError\u001b[0m                                 Traceback (most recent call last)",
      "\u001b[0;32m/var/folders/px/9knmf6z10c9gydqwyj0nmptc0000gn/T/ipykernel_15931/4291061835.py\u001b[0m in \u001b[0;36m<module>\u001b[0;34m\u001b[0m\n\u001b[0;32m----> 1\u001b[0;31m \u001b[0mresults\u001b[0m \u001b[0;34m=\u001b[0m \u001b[0mmwu\u001b[0m\u001b[0;34m(\u001b[0m\u001b[0mZIP\u001b[0m\u001b[0;34m[\u001b[0m\u001b[0;34m'Q2'\u001b[0m\u001b[0;34m]\u001b[0m\u001b[0;34m,\u001b[0m \u001b[0mZIC\u001b[0m\u001b[0;34m[\u001b[0m\u001b[0;34m'Q2'\u001b[0m\u001b[0;34m]\u001b[0m\u001b[0;34m)\u001b[0m\u001b[0;34m\u001b[0m\u001b[0;34m\u001b[0m\u001b[0m\n\u001b[0m\u001b[1;32m      2\u001b[0m \u001b[0mresults\u001b[0m\u001b[0;34m\u001b[0m\u001b[0;34m\u001b[0m\u001b[0m\n",
      "\u001b[0;31mNameError\u001b[0m: name 'mwu' is not defined"
     ]
    }
   ],
   "source": [
    "results = mwu(ZIP['Q2'], ZIC['Q2'])\n",
    "results"
   ]
  },
  {
   "cell_type": "code",
   "execution_count": 4,
   "id": "5f6768fb",
   "metadata": {},
   "outputs": [
    {
     "data": {
      "text/html": [
       "<div>\n",
       "<style scoped>\n",
       "    .dataframe tbody tr th:only-of-type {\n",
       "        vertical-align: middle;\n",
       "    }\n",
       "\n",
       "    .dataframe tbody tr th {\n",
       "        vertical-align: top;\n",
       "    }\n",
       "\n",
       "    .dataframe thead th {\n",
       "        text-align: right;\n",
       "    }\n",
       "</style>\n",
       "<table border=\"1\" class=\"dataframe\">\n",
       "  <thead>\n",
       "    <tr style=\"text-align: right;\">\n",
       "      <th></th>\n",
       "      <th>U-val</th>\n",
       "      <th>alternative</th>\n",
       "      <th>p-val</th>\n",
       "      <th>RBC</th>\n",
       "      <th>CLES</th>\n",
       "    </tr>\n",
       "  </thead>\n",
       "  <tbody>\n",
       "    <tr>\n",
       "      <th>MWU</th>\n",
       "      <td>6727.0</td>\n",
       "      <td>two-sided</td>\n",
       "      <td>0.000006</td>\n",
       "      <td>-0.372717</td>\n",
       "      <td>0.686359</td>\n",
       "    </tr>\n",
       "  </tbody>\n",
       "</table>\n",
       "</div>"
      ],
      "text/plain": [
       "      U-val alternative     p-val       RBC      CLES\n",
       "MWU  6727.0   two-sided  0.000006 -0.372717  0.686359"
      ]
     },
     "execution_count": 4,
     "metadata": {},
     "output_type": "execute_result"
    }
   ],
   "source": [
    "results = mwu(ZIP['Mean'], ZIC['Mean'])\n",
    "results"
   ]
  },
  {
   "cell_type": "code",
   "execution_count": 5,
   "id": "2f5a0227",
   "metadata": {},
   "outputs": [
    {
     "data": {
      "text/plain": [
       "KruskalResult(statistic=259.28270702873186, pvalue=6.426400389038422e-56)"
      ]
     },
     "execution_count": 5,
     "metadata": {},
     "output_type": "execute_result"
    },
    {
     "name": "stderr",
     "output_type": "stream",
     "text": [
      "/Users/Cam/opt/anaconda3/lib/python3.8/site-packages/outdated/utils.py:14: OutdatedPackageWarning: The package pingouin is out of date. Your version is 0.4.0, the latest is 0.5.0.\n",
      "Set the environment variable OUTDATED_IGNORE=1 to disable these warnings.\n",
      "  return warn(\n"
     ]
    }
   ],
   "source": [
    "stats.kruskal(ZIP['Q2'], ZIC['Q2'], GVWY['Q2'], SHVR['Q2'])"
   ]
  },
  {
   "cell_type": "code",
   "execution_count": 6,
   "id": "b3a47c35",
   "metadata": {},
   "outputs": [
    {
     "data": {
      "text/plain": [
       "KruskalResult(statistic=114.9568974224344, pvalue=9.40511827831644e-25)"
      ]
     },
     "execution_count": 6,
     "metadata": {},
     "output_type": "execute_result"
    }
   ],
   "source": [
    "stats.kruskal(ZIP['Mean'], ZIC['Mean'], GVWY['Mean'], SHVR['Mean'])"
   ]
  },
  {
   "cell_type": "code",
   "execution_count": 7,
   "id": "ff62f5e5",
   "metadata": {},
   "outputs": [
    {
     "data": {
      "image/png": "[encoded data removed]",
      "text/plain": [
       "<Figure size 864x432 with 1 Axes>"
      ]
     },
     "metadata": {
      "needs_background": "light"
     },
     "output_type": "display_data"
    }
   ],
   "source": [
    "data1 = [ZIP.Q2, ZIC.Q2, GVWY.Q2, SHVR.Q2]\n",
    "fig1, ax1 = plt.subplots(figsize=(12, 6))\n",
    "ax1.set_title('Average profit', fontsize=18)\n",
    "ax1.boxplot(data1)\n",
    "ax1.set_xlabel('Trader Type',fontsize=14)\n",
    "ax1.set_ylabel('Median Profit',fontsize=14)\n",
    "ax1.xaxis.set_tick_params(rotation=40)\n",
    "plt.yticks(fontsize=14)\n",
    "plt.xticks([1,2,3,4],['ZIP','ZIC','GVWY','SHVR'], fontsize=18)\n",
    "plt.show()"
   ]
  },
  {
   "cell_type": "code",
   "execution_count": 8,
   "id": "94ded68d",
   "metadata": {},
   "outputs": [
    {
     "data": {
      "image/png": "[encoded data removed]",
      "text/plain": [
       "<Figure size 864x432 with 1 Axes>"
      ]
     },
     "metadata": {
      "needs_background": "light"
     },
     "output_type": "display_data"
    }
   ],
   "source": [
    "data2 = [ZIP.Mean, ZIC.Mean, PRZI.Mean, PRSH.Mean, GVWY.Mean, SHVR.Mean]\n",
    "fig1, ax1 = plt.subplots(figsize=(12, 6))\n",
    "ax1.set_title('Average profit', fontsize=18)\n",
    "ax1.boxplot(data2)\n",
    "ax1.set_xlabel('Trader Type',fontsize=14)\n",
    "ax1.set_ylabel('Mean Profit',fontsize=14)\n",
    "ax1.xaxis.set_tick_params(rotation=40)\n",
    "plt.yticks(fontsize=14)\n",
    "plt.xticks([1,2,3,4,5,6],['ZIP','ZIC','PRZI','PRSH','GVWY','SHVR'], fontsize=18)\n",
    "plt.show()"
   ]
  },
  {
   "cell_type": "code",
   "execution_count": 9,
   "id": "18ad1317",
   "metadata": {
    "scrolled": false
   },
   "outputs": [
    {
     "data": {
      "image/png": "[encoded data removed]",
      "text/plain": [
       "<Figure size 864x504 with 4 Axes>"
      ]
     },
     "metadata": {
      "needs_background": "light"
     },
     "output_type": "display_data"
    }
   ],
   "source": [
    "fig1, ax1 = plt.subplots(figsize=(12, 7))\n",
    "plt.rcParams['axes.labelsize'] = 16\n",
    "plt.rcParams['axes.titlesize'] = 16\n",
    "plt.rcParams[\"figure.autolayout\"] = True\n",
    "\n",
    "#plot 1:\n",
    "plt.subplot(2, 2, 1)\n",
    "plt.hist(data1[0])\n",
    "plt.title('ZIP')\n",
    "plt.xlim(-30,100)\n",
    "plt.ylim(0,30)\n",
    "\n",
    "#plot 2:\n",
    "plt.subplot(2, 2, 2)\n",
    "plt.hist(data1[1])\n",
    "plt.title('ZIC')\n",
    "plt.xlim(-30,100)\n",
    "plt.ylim(0,30)\n",
    "\n",
    "\n",
    "#plot 3:\n",
    "plt.subplot(2, 2, 3)\n",
    "plt.hist(data1[2])\n",
    "plt.title('GVWY')\n",
    "plt.xlim(-30,100)\n",
    "plt.ylim(0,30)\n",
    "\n",
    "\n",
    "#plot 4:\n",
    "plt.subplot(2, 2, 4)\n",
    "plt.hist(data1[3])\n",
    "plt.title('SHVR')\n",
    "plt.xlim(-30,100)\n",
    "plt.ylim(0,30)\n",
    "\n",
    "\n",
    "#ax.set_xlabel('Mean Profit')\n",
    "#ax.set_ylabel('Frequency')\n",
    "plt.show()"
   ]
  },
  {
   "cell_type": "code",
   "execution_count": 10,
   "id": "f0fe51ef",
   "metadata": {},
   "outputs": [
    {
     "data": {
      "image/png": "[encoded data removed]",
      "text/plain": [
       "<Figure size 864x504 with 1 Axes>"
      ]
     },
     "metadata": {
      "needs_background": "light"
     },
     "output_type": "display_data"
    }
   ],
   "source": [
    "data = [ZIP2.Mean, ZIC2.Mean, PRZI2.Mean, PRSH2.Mean, GVWY2.Mean, SHVR2.Mean]\n",
    "fig2, ax2 = plt.subplots(figsize=(12, 7))\n",
    "ax2.set_title('Box and whisker plots, average profit as sellers')\n",
    "ax2.boxplot(data)\n",
    "ax2.set_xlabel('Trader Type')\n",
    "ax2.xaxis.set_tick_params(rotation=40)\n",
    "plt.xticks([1,2,3,4,5,6],['ZIP','ZIC','PRZI','PRSH','GVWY','SHVR'])\n",
    "plt.show()"
   ]
  },
  {
   "cell_type": "code",
   "execution_count": null,
   "id": "5731f180",
   "metadata": {},
   "outputs": [],
   "source": []
  }
 ],
 "metadata": {
  "kernelspec": {
   "display_name": "Python 3",
   "language": "python",
   "name": "python3"
  },
  "language_info": {
   "codemirror_mode": {
    "name": "ipython",
    "version": 3
   },
   "file_extension": ".py",
   "mimetype": "text/x-python",
   "name": "python",
   "nbconvert_exporter": "python",
   "pygments_lexer": "ipython3",
   "version": "3.9.7"
  }
 },
 "nbformat": 4,
 "nbformat_minor": 5
}
